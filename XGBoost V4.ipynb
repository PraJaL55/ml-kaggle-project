{
 "cells": [
  {
   "cell_type": "code",
   "execution_count": 1,
   "metadata": {},
   "outputs": [],
   "source": [
    "import numpy as np\n",
    "import mltools as ml\n",
    "import xgboost as xgb"
   ]
  },
  {
   "cell_type": "code",
   "execution_count": 2,
   "metadata": {},
   "outputs": [],
   "source": [
    "from sklearn.model_selection import train_test_split"
   ]
  },
  {
   "cell_type": "code",
   "execution_count": 3,
   "metadata": {},
   "outputs": [],
   "source": [
    "np.random.seed(9)"
   ]
  },
  {
   "cell_type": "code",
   "execution_count": 4,
   "metadata": {},
   "outputs": [],
   "source": [
    "X_train = np.genfromtxt('data/X_train.txt', delimiter=None)\n",
    "Y_train = np.genfromtxt('data/Y_train.txt', delimiter=None)\n",
    "X_test = np.genfromtxt('data/X_test.txt', delimiter=None)"
   ]
  },
  {
   "cell_type": "markdown",
   "metadata": {},
   "source": [
    "#### Rescaling Data"
   ]
  },
  {
   "cell_type": "code",
   "execution_count": 5,
   "metadata": {},
   "outputs": [],
   "source": [
    "X_train_rescaled, parameters = ml.rescale(X_train)\n",
    "X_test_rescaled, _ = ml.rescale(X_test, parameters)"
   ]
  },
  {
   "cell_type": "markdown",
   "metadata": {},
   "source": [
    "#### Split data into Train and Validate"
   ]
  },
  {
   "cell_type": "code",
   "execution_count": 6,
   "metadata": {},
   "outputs": [],
   "source": [
    "X_split_train, X_split_validation, Y_split_train, Y_split_validation = \\\n",
    "                                                train_test_split(X_train_rescaled, Y_train, test_size = 0.3)"
   ]
  },
  {
   "cell_type": "markdown",
   "metadata": {},
   "source": [
    "#### Applying XGBoost"
   ]
  },
  {
   "cell_type": "code",
   "execution_count": 16,
   "metadata": {},
   "outputs": [],
   "source": [
    "xlf = xgb.XGBRegressor(nthread=4, #when use hyperthread, xgboost may become slower\n",
    "                        objective='binary:logistic',\n",
    "                        learning_rate=0.15, #so called `eta` value\n",
    "                        max_depth=8,\n",
    "                        min_child_weight=3,\n",
    "                        silent=1,\n",
    "                        subsample=0.9,\n",
    "                        colsample_bytree=0.5,\n",
    "                        n_estimators=300, #number of trees\n",
    "                        seed=1337)"
   ]
  },
  {
   "cell_type": "code",
   "execution_count": 17,
   "metadata": {
    "scrolled": true
   },
   "outputs": [
    {
     "name": "stdout",
     "output_type": "stream",
     "text": [
      "[0]\tvalidation_0-auc:0.69036\n",
      "Will train until validation_0-auc hasn't improved in 500 rounds.\n",
      "[1]\tvalidation_0-auc:0.700098\n",
      "[2]\tvalidation_0-auc:0.703322\n",
      "[3]\tvalidation_0-auc:0.708441\n",
      "[4]\tvalidation_0-auc:0.710035\n",
      "[5]\tvalidation_0-auc:0.717068\n",
      "[6]\tvalidation_0-auc:0.71979\n",
      "[7]\tvalidation_0-auc:0.722433\n",
      "[8]\tvalidation_0-auc:0.727084\n",
      "[9]\tvalidation_0-auc:0.728973\n",
      "[10]\tvalidation_0-auc:0.733315\n",
      "[11]\tvalidation_0-auc:0.734714\n",
      "[12]\tvalidation_0-auc:0.740296\n",
      "[13]\tvalidation_0-auc:0.744943\n",
      "[14]\tvalidation_0-auc:0.748486\n",
      "[15]\tvalidation_0-auc:0.750838\n",
      "[16]\tvalidation_0-auc:0.752115\n",
      "[17]\tvalidation_0-auc:0.755977\n",
      "[18]\tvalidation_0-auc:0.758253\n",
      "[19]\tvalidation_0-auc:0.760315\n",
      "[20]\tvalidation_0-auc:0.761866\n",
      "[21]\tvalidation_0-auc:0.762621\n",
      "[22]\tvalidation_0-auc:0.762898\n",
      "[23]\tvalidation_0-auc:0.763481\n",
      "[24]\tvalidation_0-auc:0.766182\n",
      "[25]\tvalidation_0-auc:0.768098\n",
      "[26]\tvalidation_0-auc:0.768947\n",
      "[27]\tvalidation_0-auc:0.770864\n",
      "[28]\tvalidation_0-auc:0.771208\n",
      "[29]\tvalidation_0-auc:0.773469\n",
      "[30]\tvalidation_0-auc:0.774028\n",
      "[31]\tvalidation_0-auc:0.775727\n",
      "[32]\tvalidation_0-auc:0.776297\n",
      "[33]\tvalidation_0-auc:0.776874\n",
      "[34]\tvalidation_0-auc:0.777609\n",
      "[35]\tvalidation_0-auc:0.778231\n",
      "[36]\tvalidation_0-auc:0.779697\n",
      "[37]\tvalidation_0-auc:0.780236\n",
      "[38]\tvalidation_0-auc:0.781979\n",
      "[39]\tvalidation_0-auc:0.783589\n",
      "[40]\tvalidation_0-auc:0.784332\n",
      "[41]\tvalidation_0-auc:0.785752\n",
      "[42]\tvalidation_0-auc:0.787833\n",
      "[43]\tvalidation_0-auc:0.788376\n",
      "[44]\tvalidation_0-auc:0.789136\n",
      "[45]\tvalidation_0-auc:0.790178\n",
      "[46]\tvalidation_0-auc:0.791419\n",
      "[47]\tvalidation_0-auc:0.792696\n",
      "[48]\tvalidation_0-auc:0.793421\n",
      "[49]\tvalidation_0-auc:0.794172\n",
      "[50]\tvalidation_0-auc:0.795112\n",
      "[51]\tvalidation_0-auc:0.796288\n",
      "[52]\tvalidation_0-auc:0.797321\n",
      "[53]\tvalidation_0-auc:0.798056\n",
      "[54]\tvalidation_0-auc:0.799538\n",
      "[55]\tvalidation_0-auc:0.800441\n",
      "[56]\tvalidation_0-auc:0.80157\n",
      "[57]\tvalidation_0-auc:0.802706\n",
      "[58]\tvalidation_0-auc:0.803147\n",
      "[59]\tvalidation_0-auc:0.804195\n",
      "[60]\tvalidation_0-auc:0.804648\n",
      "[61]\tvalidation_0-auc:0.805286\n",
      "[62]\tvalidation_0-auc:0.806094\n",
      "[63]\tvalidation_0-auc:0.806427\n",
      "[64]\tvalidation_0-auc:0.807694\n",
      "[65]\tvalidation_0-auc:0.808043\n",
      "[66]\tvalidation_0-auc:0.80875\n",
      "[67]\tvalidation_0-auc:0.80918\n",
      "[68]\tvalidation_0-auc:0.809532\n",
      "[69]\tvalidation_0-auc:0.809931\n",
      "[70]\tvalidation_0-auc:0.810109\n",
      "[71]\tvalidation_0-auc:0.810771\n",
      "[72]\tvalidation_0-auc:0.81102\n",
      "[73]\tvalidation_0-auc:0.811788\n",
      "[74]\tvalidation_0-auc:0.812093\n",
      "[75]\tvalidation_0-auc:0.812957\n",
      "[76]\tvalidation_0-auc:0.81389\n",
      "[77]\tvalidation_0-auc:0.814544\n",
      "[78]\tvalidation_0-auc:0.815425\n",
      "[79]\tvalidation_0-auc:0.816191\n",
      "[80]\tvalidation_0-auc:0.81673\n",
      "[81]\tvalidation_0-auc:0.816805\n",
      "[82]\tvalidation_0-auc:0.816929\n",
      "[83]\tvalidation_0-auc:0.817085\n",
      "[84]\tvalidation_0-auc:0.817531\n",
      "[85]\tvalidation_0-auc:0.81874\n",
      "[86]\tvalidation_0-auc:0.81938\n",
      "[87]\tvalidation_0-auc:0.819698\n",
      "[88]\tvalidation_0-auc:0.82019\n",
      "[89]\tvalidation_0-auc:0.820858\n",
      "[90]\tvalidation_0-auc:0.821728\n",
      "[91]\tvalidation_0-auc:0.821922\n",
      "[92]\tvalidation_0-auc:0.822156\n",
      "[93]\tvalidation_0-auc:0.822576\n",
      "[94]\tvalidation_0-auc:0.822922\n",
      "[95]\tvalidation_0-auc:0.822944\n",
      "[96]\tvalidation_0-auc:0.823143\n",
      "[97]\tvalidation_0-auc:0.823514\n",
      "[98]\tvalidation_0-auc:0.82369\n",
      "[99]\tvalidation_0-auc:0.824474\n",
      "[100]\tvalidation_0-auc:0.824742\n",
      "[101]\tvalidation_0-auc:0.825145\n",
      "[102]\tvalidation_0-auc:0.825715\n",
      "[103]\tvalidation_0-auc:0.8259\n",
      "[104]\tvalidation_0-auc:0.826372\n",
      "[105]\tvalidation_0-auc:0.826972\n",
      "[106]\tvalidation_0-auc:0.827269\n",
      "[107]\tvalidation_0-auc:0.827652\n",
      "[108]\tvalidation_0-auc:0.827804\n",
      "[109]\tvalidation_0-auc:0.828447\n",
      "[110]\tvalidation_0-auc:0.828736\n",
      "[111]\tvalidation_0-auc:0.829165\n",
      "[112]\tvalidation_0-auc:0.829426\n",
      "[113]\tvalidation_0-auc:0.829955\n",
      "[114]\tvalidation_0-auc:0.831206\n",
      "[115]\tvalidation_0-auc:0.831686\n",
      "[116]\tvalidation_0-auc:0.832361\n",
      "[117]\tvalidation_0-auc:0.832546\n",
      "[118]\tvalidation_0-auc:0.832951\n",
      "[119]\tvalidation_0-auc:0.833501\n",
      "[120]\tvalidation_0-auc:0.83422\n",
      "[121]\tvalidation_0-auc:0.834263\n",
      "[122]\tvalidation_0-auc:0.834323\n",
      "[123]\tvalidation_0-auc:0.834707\n",
      "[124]\tvalidation_0-auc:0.835569\n",
      "[125]\tvalidation_0-auc:0.835729\n",
      "[126]\tvalidation_0-auc:0.836016\n",
      "[127]\tvalidation_0-auc:0.836058\n",
      "[128]\tvalidation_0-auc:0.836634\n",
      "[129]\tvalidation_0-auc:0.837289\n",
      "[130]\tvalidation_0-auc:0.837918\n",
      "[131]\tvalidation_0-auc:0.838154\n",
      "[132]\tvalidation_0-auc:0.838548\n",
      "[133]\tvalidation_0-auc:0.838905\n",
      "[134]\tvalidation_0-auc:0.839102\n",
      "[135]\tvalidation_0-auc:0.839596\n",
      "[136]\tvalidation_0-auc:0.839834\n",
      "[137]\tvalidation_0-auc:0.840062\n",
      "[138]\tvalidation_0-auc:0.840571\n",
      "[139]\tvalidation_0-auc:0.840898\n",
      "[140]\tvalidation_0-auc:0.840999\n",
      "[141]\tvalidation_0-auc:0.841149\n",
      "[142]\tvalidation_0-auc:0.841368\n",
      "[143]\tvalidation_0-auc:0.841781\n",
      "[144]\tvalidation_0-auc:0.841905\n",
      "[145]\tvalidation_0-auc:0.842147\n",
      "[146]\tvalidation_0-auc:0.84236\n",
      "[147]\tvalidation_0-auc:0.842699\n",
      "[148]\tvalidation_0-auc:0.842972\n",
      "[149]\tvalidation_0-auc:0.843295\n",
      "[150]\tvalidation_0-auc:0.843612\n",
      "[151]\tvalidation_0-auc:0.843714\n",
      "[152]\tvalidation_0-auc:0.843752\n",
      "[153]\tvalidation_0-auc:0.843792\n",
      "[154]\tvalidation_0-auc:0.844593\n",
      "[155]\tvalidation_0-auc:0.844907\n",
      "[156]\tvalidation_0-auc:0.84498\n",
      "[157]\tvalidation_0-auc:0.845105\n",
      "[158]\tvalidation_0-auc:0.845766\n",
      "[159]\tvalidation_0-auc:0.846116\n",
      "[160]\tvalidation_0-auc:0.846452\n",
      "[161]\tvalidation_0-auc:0.8466\n",
      "[162]\tvalidation_0-auc:0.84739\n",
      "[163]\tvalidation_0-auc:0.847627\n",
      "[164]\tvalidation_0-auc:0.848096\n",
      "[165]\tvalidation_0-auc:0.848415\n",
      "[166]\tvalidation_0-auc:0.848867\n",
      "[167]\tvalidation_0-auc:0.849349\n",
      "[168]\tvalidation_0-auc:0.849657\n",
      "[169]\tvalidation_0-auc:0.849716\n",
      "[170]\tvalidation_0-auc:0.849889\n",
      "[171]\tvalidation_0-auc:0.850168\n",
      "[172]\tvalidation_0-auc:0.850286\n",
      "[173]\tvalidation_0-auc:0.850545\n",
      "[174]\tvalidation_0-auc:0.850779\n",
      "[175]\tvalidation_0-auc:0.850832\n",
      "[176]\tvalidation_0-auc:0.851171\n",
      "[177]\tvalidation_0-auc:0.851422\n",
      "[178]\tvalidation_0-auc:0.851696\n",
      "[179]\tvalidation_0-auc:0.851905\n",
      "[180]\tvalidation_0-auc:0.852216\n",
      "[181]\tvalidation_0-auc:0.852335\n",
      "[182]\tvalidation_0-auc:0.8525\n",
      "[183]\tvalidation_0-auc:0.852649\n",
      "[184]\tvalidation_0-auc:0.853001\n",
      "[185]\tvalidation_0-auc:0.853049\n",
      "[186]\tvalidation_0-auc:0.853447\n",
      "[187]\tvalidation_0-auc:0.853759\n",
      "[188]\tvalidation_0-auc:0.853991\n",
      "[189]\tvalidation_0-auc:0.854219\n",
      "[190]\tvalidation_0-auc:0.854275\n",
      "[191]\tvalidation_0-auc:0.85449\n",
      "[192]\tvalidation_0-auc:0.85466\n",
      "[193]\tvalidation_0-auc:0.854813\n",
      "[194]\tvalidation_0-auc:0.855029\n",
      "[195]\tvalidation_0-auc:0.855251\n",
      "[196]\tvalidation_0-auc:0.855528\n",
      "[197]\tvalidation_0-auc:0.855939\n",
      "[198]\tvalidation_0-auc:0.856011\n",
      "[199]\tvalidation_0-auc:0.856341\n",
      "[200]\tvalidation_0-auc:0.856575\n",
      "[201]\tvalidation_0-auc:0.856724\n",
      "[202]\tvalidation_0-auc:0.856879\n",
      "[203]\tvalidation_0-auc:0.857212\n",
      "[204]\tvalidation_0-auc:0.857317\n",
      "[205]\tvalidation_0-auc:0.857563\n",
      "[206]\tvalidation_0-auc:0.857796\n",
      "[207]\tvalidation_0-auc:0.857824\n",
      "[208]\tvalidation_0-auc:0.857967\n",
      "[209]\tvalidation_0-auc:0.858192\n",
      "[210]\tvalidation_0-auc:0.858433\n",
      "[211]\tvalidation_0-auc:0.858729\n",
      "[212]\tvalidation_0-auc:0.859001\n",
      "[213]\tvalidation_0-auc:0.859338\n",
      "[214]\tvalidation_0-auc:0.859624\n",
      "[215]\tvalidation_0-auc:0.859812\n",
      "[216]\tvalidation_0-auc:0.860117\n",
      "[217]\tvalidation_0-auc:0.86027\n",
      "[218]\tvalidation_0-auc:0.860469\n",
      "[219]\tvalidation_0-auc:0.860725\n",
      "[220]\tvalidation_0-auc:0.860941\n",
      "[221]\tvalidation_0-auc:0.861306\n",
      "[222]\tvalidation_0-auc:0.861497\n",
      "[223]\tvalidation_0-auc:0.861749\n",
      "[224]\tvalidation_0-auc:0.861811\n",
      "[225]\tvalidation_0-auc:0.862119\n",
      "[226]\tvalidation_0-auc:0.862189\n",
      "[227]\tvalidation_0-auc:0.862414\n",
      "[228]\tvalidation_0-auc:0.862601\n",
      "[229]\tvalidation_0-auc:0.862868\n",
      "[230]\tvalidation_0-auc:0.863226\n",
      "[231]\tvalidation_0-auc:0.863272\n",
      "[232]\tvalidation_0-auc:0.863614\n",
      "[233]\tvalidation_0-auc:0.863967\n",
      "[234]\tvalidation_0-auc:0.864086\n",
      "[235]\tvalidation_0-auc:0.864162\n",
      "[236]\tvalidation_0-auc:0.864263\n",
      "[237]\tvalidation_0-auc:0.86428\n",
      "[238]\tvalidation_0-auc:0.864431\n",
      "[239]\tvalidation_0-auc:0.864608\n",
      "[240]\tvalidation_0-auc:0.864932\n",
      "[241]\tvalidation_0-auc:0.865107\n",
      "[242]\tvalidation_0-auc:0.865294\n",
      "[243]\tvalidation_0-auc:0.865418\n",
      "[244]\tvalidation_0-auc:0.865687\n",
      "[245]\tvalidation_0-auc:0.865874\n",
      "[246]\tvalidation_0-auc:0.866009\n",
      "[247]\tvalidation_0-auc:0.866152\n",
      "[248]\tvalidation_0-auc:0.866276\n",
      "[249]\tvalidation_0-auc:0.866539\n",
      "[250]\tvalidation_0-auc:0.866884\n",
      "[251]\tvalidation_0-auc:0.867088\n",
      "[252]\tvalidation_0-auc:0.867359\n",
      "[253]\tvalidation_0-auc:0.867483\n",
      "[254]\tvalidation_0-auc:0.867608\n",
      "[255]\tvalidation_0-auc:0.867764\n",
      "[256]\tvalidation_0-auc:0.867879\n",
      "[257]\tvalidation_0-auc:0.86814\n",
      "[258]\tvalidation_0-auc:0.868338\n"
     ]
    },
    {
     "name": "stdout",
     "output_type": "stream",
     "text": [
      "[259]\tvalidation_0-auc:0.868503\n",
      "[260]\tvalidation_0-auc:0.868597\n",
      "[261]\tvalidation_0-auc:0.868808\n",
      "[262]\tvalidation_0-auc:0.868986\n",
      "[263]\tvalidation_0-auc:0.869149\n",
      "[264]\tvalidation_0-auc:0.869212\n",
      "[265]\tvalidation_0-auc:0.869404\n",
      "[266]\tvalidation_0-auc:0.869482\n",
      "[267]\tvalidation_0-auc:0.86962\n",
      "[268]\tvalidation_0-auc:0.869887\n",
      "[269]\tvalidation_0-auc:0.870036\n",
      "[270]\tvalidation_0-auc:0.870071\n",
      "[271]\tvalidation_0-auc:0.870209\n",
      "[272]\tvalidation_0-auc:0.870593\n",
      "[273]\tvalidation_0-auc:0.870561\n",
      "[274]\tvalidation_0-auc:0.870743\n",
      "[275]\tvalidation_0-auc:0.87097\n",
      "[276]\tvalidation_0-auc:0.871257\n",
      "[277]\tvalidation_0-auc:0.871441\n",
      "[278]\tvalidation_0-auc:0.871746\n",
      "[279]\tvalidation_0-auc:0.871952\n",
      "[280]\tvalidation_0-auc:0.87216\n",
      "[281]\tvalidation_0-auc:0.872311\n",
      "[282]\tvalidation_0-auc:0.872366\n",
      "[283]\tvalidation_0-auc:0.872552\n",
      "[284]\tvalidation_0-auc:0.872636\n",
      "[285]\tvalidation_0-auc:0.872812\n",
      "[286]\tvalidation_0-auc:0.872895\n",
      "[287]\tvalidation_0-auc:0.872985\n",
      "[288]\tvalidation_0-auc:0.873249\n",
      "[289]\tvalidation_0-auc:0.873345\n",
      "[290]\tvalidation_0-auc:0.873481\n",
      "[291]\tvalidation_0-auc:0.87358\n",
      "[292]\tvalidation_0-auc:0.873673\n",
      "[293]\tvalidation_0-auc:0.873728\n",
      "[294]\tvalidation_0-auc:0.873954\n",
      "[295]\tvalidation_0-auc:0.874069\n",
      "[296]\tvalidation_0-auc:0.874235\n",
      "[297]\tvalidation_0-auc:0.874623\n",
      "[298]\tvalidation_0-auc:0.874664\n",
      "[299]\tvalidation_0-auc:0.874952\n"
     ]
    },
    {
     "data": {
      "text/plain": [
       "XGBRegressor(base_score=0.5, booster='gbtree', colsample_bylevel=1,\n",
       "       colsample_bytree=0.5, gamma=0, learning_rate=0.15, max_delta_step=0,\n",
       "       max_depth=8, min_child_weight=3, missing=None, n_estimators=300,\n",
       "       n_jobs=1, nthread=4, objective='binary:logistic', random_state=0,\n",
       "       reg_alpha=0, reg_lambda=1, scale_pos_weight=1, seed=1337, silent=1,\n",
       "       subsample=0.9)"
      ]
     },
     "execution_count": 17,
     "metadata": {},
     "output_type": "execute_result"
    }
   ],
   "source": [
    "xlf.fit(X_split_train, Y_split_train, eval_metric='auc', verbose = True, \\\n",
    "        eval_set = [(X_split_train, Y_split_train)], early_stopping_rounds=500)\n",
    "\n",
    "# xlf.fit(X_train_rescaled, Y_train, eval_metric='auc', verbose = True)"
   ]
  },
  {
   "cell_type": "code",
   "execution_count": 18,
   "metadata": {},
   "outputs": [],
   "source": [
    "predictions = xlf.predict(X_test_rescaled)"
   ]
  },
  {
   "cell_type": "code",
   "execution_count": 19,
   "metadata": {},
   "outputs": [
    {
     "data": {
      "text/plain": [
       "array([ 0.78285754,  0.62050647,  0.20419091, ...,  0.26792434,\n",
       "        0.15568559,  0.16630571], dtype=float32)"
      ]
     },
     "execution_count": 19,
     "metadata": {},
     "output_type": "execute_result"
    }
   ],
   "source": [
    "predictions"
   ]
  },
  {
   "cell_type": "markdown",
   "metadata": {},
   "source": [
    "#### Saving txt file"
   ]
  },
  {
   "cell_type": "code",
   "execution_count": 20,
   "metadata": {},
   "outputs": [],
   "source": [
    "Y_test = np.vstack((np.arange(X_test.shape[0]), predictions)).T"
   ]
  },
  {
   "cell_type": "code",
   "execution_count": 21,
   "metadata": {},
   "outputs": [],
   "source": [
    "np.savetxt('Y_submit_XGBoost_v4.txt', Y_test, '%d, %.2f', header='ID,Prob1', comments='', delimiter=',')"
   ]
  },
  {
   "cell_type": "code",
   "execution_count": null,
   "metadata": {},
   "outputs": [],
   "source": []
  }
 ],
 "metadata": {
  "kernelspec": {
   "display_name": "Python 3",
   "language": "python",
   "name": "python3"
  },
  "language_info": {
   "codemirror_mode": {
    "name": "ipython",
    "version": 3
   },
   "file_extension": ".py",
   "mimetype": "text/x-python",
   "name": "python",
   "nbconvert_exporter": "python",
   "pygments_lexer": "ipython3",
   "version": "3.5.4"
  }
 },
 "nbformat": 4,
 "nbformat_minor": 2
}
