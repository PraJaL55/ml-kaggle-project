{
 "cells": [
  {
   "cell_type": "code",
   "execution_count": 1,
   "metadata": {},
   "outputs": [],
   "source": [
    "import numpy as np\n",
    "import mltools as ml\n",
    "import xgboost as xgb"
   ]
  },
  {
   "cell_type": "code",
   "execution_count": 9,
   "metadata": {},
   "outputs": [],
   "source": [
    "from sklearn.model_selection import train_test_split"
   ]
  },
  {
   "cell_type": "code",
   "execution_count": 2,
   "metadata": {},
   "outputs": [],
   "source": [
    "np.random.seed(9)"
   ]
  },
  {
   "cell_type": "code",
   "execution_count": 5,
   "metadata": {},
   "outputs": [],
   "source": [
    "X_train = np.genfromtxt('data/X_train.txt', delimiter=None)\n",
    "Y_train = np.genfromtxt('data/Y_train.txt', delimiter=None)\n",
    "X_test = np.genfromtxt('data/X_test.txt', delimiter=None)"
   ]
  },
  {
   "cell_type": "markdown",
   "metadata": {},
   "source": [
    "#### Rescaling Data"
   ]
  },
  {
   "cell_type": "code",
   "execution_count": 6,
   "metadata": {},
   "outputs": [],
   "source": [
    "X_train_rescaled, parameters = ml.rescale(X_train)\n",
    "X_test_rescaled, _ = ml.rescale(X_test, parameters)"
   ]
  },
  {
   "cell_type": "markdown",
   "metadata": {},
   "source": [
    "#### Split data into Train and Validate"
   ]
  },
  {
   "cell_type": "code",
   "execution_count": 56,
   "metadata": {},
   "outputs": [],
   "source": [
    "X_split_train, X_split_validation, Y_split_train, Y_split_validation = \\\n",
    "                                                train_test_split(X_train_rescaled, Y_train, test_size = 0.2)"
   ]
  },
  {
   "cell_type": "markdown",
   "metadata": {},
   "source": [
    "#### Applying XGBoost"
   ]
  },
  {
   "cell_type": "code",
   "execution_count": 60,
   "metadata": {},
   "outputs": [],
   "source": [
    "xlf = xgb.XGBRegressor(max_depth=10, \n",
    "                        learning_rate=0.01, \n",
    "                        n_estimators=100, \n",
    "                        silent=True, \n",
    "                        objective='reg:linear', \n",
    "                        nthread=-1, \n",
    "                        gamma=0,\n",
    "                        min_child_weight=1, \n",
    "                        max_delta_step=0, \n",
    "                        subsample=0.85, \n",
    "                        colsample_bytree=0.7, \n",
    "                        colsample_bylevel=1, \n",
    "                        reg_alpha=0, \n",
    "                        reg_lambda=1, \n",
    "                        scale_pos_weight=1, \n",
    "                        seed=1440, \n",
    "                       eval_metric='auc',\n",
    "                        missing=None)"
   ]
  },
  {
   "cell_type": "code",
   "execution_count": 61,
   "metadata": {
    "scrolled": true
   },
   "outputs": [
    {
     "name": "stdout",
     "output_type": "stream",
     "text": [
      "[0]\tvalidation_0-auc:0.715523\n",
      "Will train until validation_0-auc hasn't improved in 100 rounds.\n",
      "[1]\tvalidation_0-auc:0.724326\n",
      "[2]\tvalidation_0-auc:0.731422\n",
      "[3]\tvalidation_0-auc:0.735532\n",
      "[4]\tvalidation_0-auc:0.740283\n",
      "[5]\tvalidation_0-auc:0.740702\n",
      "[6]\tvalidation_0-auc:0.740428\n",
      "[7]\tvalidation_0-auc:0.740708\n",
      "[8]\tvalidation_0-auc:0.74544\n",
      "[9]\tvalidation_0-auc:0.74802\n",
      "[10]\tvalidation_0-auc:0.750112\n",
      "[11]\tvalidation_0-auc:0.749755\n",
      "[12]\tvalidation_0-auc:0.751417\n",
      "[13]\tvalidation_0-auc:0.753102\n",
      "[14]\tvalidation_0-auc:0.75285\n",
      "[15]\tvalidation_0-auc:0.754348\n",
      "[16]\tvalidation_0-auc:0.756382\n",
      "[17]\tvalidation_0-auc:0.757836\n",
      "[18]\tvalidation_0-auc:0.758949\n",
      "[19]\tvalidation_0-auc:0.759672\n",
      "[20]\tvalidation_0-auc:0.76053\n",
      "[21]\tvalidation_0-auc:0.760342\n",
      "[22]\tvalidation_0-auc:0.76082\n",
      "[23]\tvalidation_0-auc:0.761058\n",
      "[24]\tvalidation_0-auc:0.761608\n",
      "[25]\tvalidation_0-auc:0.761656\n",
      "[26]\tvalidation_0-auc:0.762229\n",
      "[27]\tvalidation_0-auc:0.764047\n",
      "[28]\tvalidation_0-auc:0.764618\n",
      "[29]\tvalidation_0-auc:0.765853\n",
      "[30]\tvalidation_0-auc:0.765618\n",
      "[31]\tvalidation_0-auc:0.766348\n",
      "[32]\tvalidation_0-auc:0.766437\n",
      "[33]\tvalidation_0-auc:0.766792\n",
      "[34]\tvalidation_0-auc:0.767207\n",
      "[35]\tvalidation_0-auc:0.768061\n",
      "[36]\tvalidation_0-auc:0.768447\n",
      "[37]\tvalidation_0-auc:0.768802\n",
      "[38]\tvalidation_0-auc:0.768788\n",
      "[39]\tvalidation_0-auc:0.769216\n",
      "[40]\tvalidation_0-auc:0.770214\n",
      "[41]\tvalidation_0-auc:0.7704\n",
      "[42]\tvalidation_0-auc:0.770428\n",
      "[43]\tvalidation_0-auc:0.771334\n",
      "[44]\tvalidation_0-auc:0.77135\n",
      "[45]\tvalidation_0-auc:0.771363\n",
      "[46]\tvalidation_0-auc:0.771579\n",
      "[47]\tvalidation_0-auc:0.771719\n",
      "[48]\tvalidation_0-auc:0.771768\n",
      "[49]\tvalidation_0-auc:0.771644\n",
      "[50]\tvalidation_0-auc:0.771816\n",
      "[51]\tvalidation_0-auc:0.772187\n",
      "[52]\tvalidation_0-auc:0.772485\n",
      "[53]\tvalidation_0-auc:0.772467\n",
      "[54]\tvalidation_0-auc:0.772981\n",
      "[55]\tvalidation_0-auc:0.773583\n",
      "[56]\tvalidation_0-auc:0.773543\n",
      "[57]\tvalidation_0-auc:0.773837\n",
      "[58]\tvalidation_0-auc:0.77429\n",
      "[59]\tvalidation_0-auc:0.774731\n",
      "[60]\tvalidation_0-auc:0.774686\n",
      "[61]\tvalidation_0-auc:0.775167\n",
      "[62]\tvalidation_0-auc:0.775274\n",
      "[63]\tvalidation_0-auc:0.775356\n",
      "[64]\tvalidation_0-auc:0.775793\n",
      "[65]\tvalidation_0-auc:0.776251\n",
      "[66]\tvalidation_0-auc:0.776244\n",
      "[67]\tvalidation_0-auc:0.777036\n",
      "[68]\tvalidation_0-auc:0.777426\n",
      "[69]\tvalidation_0-auc:0.777546\n",
      "[70]\tvalidation_0-auc:0.777864\n",
      "[71]\tvalidation_0-auc:0.778475\n",
      "[72]\tvalidation_0-auc:0.77871\n",
      "[73]\tvalidation_0-auc:0.77876\n",
      "[74]\tvalidation_0-auc:0.77915\n",
      "[75]\tvalidation_0-auc:0.779589\n",
      "[76]\tvalidation_0-auc:0.779953\n",
      "[77]\tvalidation_0-auc:0.780305\n",
      "[78]\tvalidation_0-auc:0.780372\n",
      "[79]\tvalidation_0-auc:0.780605\n",
      "[80]\tvalidation_0-auc:0.780794\n",
      "[81]\tvalidation_0-auc:0.781075\n",
      "[82]\tvalidation_0-auc:0.781368\n",
      "[83]\tvalidation_0-auc:0.781611\n",
      "[84]\tvalidation_0-auc:0.781816\n",
      "[85]\tvalidation_0-auc:0.782447\n",
      "[86]\tvalidation_0-auc:0.782867\n",
      "[87]\tvalidation_0-auc:0.783176\n",
      "[88]\tvalidation_0-auc:0.783589\n",
      "[89]\tvalidation_0-auc:0.783818\n",
      "[90]\tvalidation_0-auc:0.784239\n",
      "[91]\tvalidation_0-auc:0.78433\n",
      "[92]\tvalidation_0-auc:0.784523\n",
      "[93]\tvalidation_0-auc:0.784706\n",
      "[94]\tvalidation_0-auc:0.784962\n",
      "[95]\tvalidation_0-auc:0.785298\n",
      "[96]\tvalidation_0-auc:0.785535\n",
      "[97]\tvalidation_0-auc:0.785756\n",
      "[98]\tvalidation_0-auc:0.785982\n",
      "[99]\tvalidation_0-auc:0.786205\n"
     ]
    },
    {
     "data": {
      "text/plain": [
       "XGBRegressor(base_score=0.5, booster='gbtree', colsample_bylevel=1,\n",
       "       colsample_bytree=0.7, eval_metric='auc', gamma=0,\n",
       "       learning_rate=0.01, max_delta_step=0, max_depth=10,\n",
       "       min_child_weight=1, missing=None, n_estimators=100, n_jobs=1,\n",
       "       nthread=-1, objective='reg:linear', random_state=0, reg_alpha=0,\n",
       "       reg_lambda=1, scale_pos_weight=1, seed=1440, silent=True,\n",
       "       subsample=0.85)"
      ]
     },
     "execution_count": 61,
     "metadata": {},
     "output_type": "execute_result"
    }
   ],
   "source": [
    "xlf.fit(X_split_train, Y_split_train, eval_metric='auc', verbose = True, \\\n",
    "        eval_set = [(X_split_train, Y_split_train)], early_stopping_rounds=100)\n",
    "\n",
    "# xlf.fit(X_train_rescaled, Y_train, eval_metric='auc', verbose = True)"
   ]
  },
  {
   "cell_type": "code",
   "execution_count": 45,
   "metadata": {},
   "outputs": [],
   "source": [
    "predictions = xlf.predict(X_test_rescaled)"
   ]
  },
  {
   "cell_type": "code",
   "execution_count": 29,
   "metadata": {},
   "outputs": [
    {
     "data": {
      "text/plain": [
       "array([ 0.71816027,  0.40702298,  0.3570112 , ...,  0.3848815 ,\n",
       "        0.26137674,  0.29080856], dtype=float32)"
      ]
     },
     "execution_count": 29,
     "metadata": {},
     "output_type": "execute_result"
    }
   ],
   "source": [
    "predictions #1"
   ]
  },
  {
   "cell_type": "code",
   "execution_count": 33,
   "metadata": {},
   "outputs": [
    {
     "data": {
      "text/plain": [
       "array([ 0.88731736,  0.51474732,  0.11791123, ...,  0.27728382,\n",
       "        0.06862013,  0.12416136], dtype=float32)"
      ]
     },
     "execution_count": 33,
     "metadata": {},
     "output_type": "execute_result"
    }
   ],
   "source": [
    "predictions #2"
   ]
  },
  {
   "cell_type": "code",
   "execution_count": 40,
   "metadata": {},
   "outputs": [
    {
     "data": {
      "text/plain": [
       "array([ 0.69462633,  0.49171945,  0.32191864, ...,  0.33926171,\n",
       "        0.2801075 ,  0.28359342], dtype=float32)"
      ]
     },
     "execution_count": 40,
     "metadata": {},
     "output_type": "execute_result"
    }
   ],
   "source": [
    "predictions #3"
   ]
  },
  {
   "cell_type": "code",
   "execution_count": 46,
   "metadata": {},
   "outputs": [
    {
     "data": {
      "text/plain": [
       "array([ 0.52289128,  0.49507147,  0.46891677, ...,  0.47719181,\n",
       "        0.46705362,  0.46660593], dtype=float32)"
      ]
     },
     "execution_count": 46,
     "metadata": {},
     "output_type": "execute_result"
    }
   ],
   "source": [
    "predictions #4"
   ]
  },
  {
   "cell_type": "markdown",
   "metadata": {},
   "source": [
    "#### Saving txt file"
   ]
  },
  {
   "cell_type": "code",
   "execution_count": 34,
   "metadata": {},
   "outputs": [],
   "source": [
    "Yte = np.vstack((np.arange(X_test.shape[0]), predictions)).T"
   ]
  },
  {
   "cell_type": "code",
   "execution_count": 35,
   "metadata": {},
   "outputs": [],
   "source": [
    "np.savetxt('Y_submit_XGBoost_v1.txt', Yte, '%d, %.2f', header='ID,Prob1', comments='', delimiter=',')"
   ]
  },
  {
   "cell_type": "code",
   "execution_count": null,
   "metadata": {},
   "outputs": [],
   "source": []
  }
 ],
 "metadata": {
  "kernelspec": {
   "display_name": "Python 3",
   "language": "python",
   "name": "python3"
  },
  "language_info": {
   "codemirror_mode": {
    "name": "ipython",
    "version": 3
   },
   "file_extension": ".py",
   "mimetype": "text/x-python",
   "name": "python",
   "nbconvert_exporter": "python",
   "pygments_lexer": "ipython3",
   "version": "3.5.4"
  }
 },
 "nbformat": 4,
 "nbformat_minor": 2
}
