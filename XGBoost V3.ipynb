{
 "cells": [
  {
   "cell_type": "code",
   "execution_count": 1,
   "metadata": {},
   "outputs": [],
   "source": [
    "import numpy as np\n",
    "import mltools as ml\n",
    "import xgboost as xgb"
   ]
  },
  {
   "cell_type": "code",
   "execution_count": 2,
   "metadata": {},
   "outputs": [],
   "source": [
    "from sklearn.model_selection import train_test_split"
   ]
  },
  {
   "cell_type": "code",
   "execution_count": 3,
   "metadata": {},
   "outputs": [],
   "source": [
    "np.random.seed(9)"
   ]
  },
  {
   "cell_type": "code",
   "execution_count": 4,
   "metadata": {},
   "outputs": [],
   "source": [
    "X_train = np.genfromtxt('data/X_train.txt', delimiter=None)\n",
    "Y_train = np.genfromtxt('data/Y_train.txt', delimiter=None)\n",
    "X_test = np.genfromtxt('data/X_test.txt', delimiter=None)"
   ]
  },
  {
   "cell_type": "markdown",
   "metadata": {},
   "source": [
    "#### Rescaling Data"
   ]
  },
  {
   "cell_type": "code",
   "execution_count": 5,
   "metadata": {},
   "outputs": [],
   "source": [
    "X_train_rescaled, parameters = ml.rescale(X_train)\n",
    "X_test_rescaled, _ = ml.rescale(X_test, parameters)"
   ]
  },
  {
   "cell_type": "markdown",
   "metadata": {},
   "source": [
    "#### Split data into Train and Validate"
   ]
  },
  {
   "cell_type": "code",
   "execution_count": 6,
   "metadata": {},
   "outputs": [],
   "source": [
    "X_split_train, X_split_validation, Y_split_train, Y_split_validation = \\\n",
    "                                                train_test_split(X_train_rescaled, Y_train, test_size = 0.3)"
   ]
  },
  {
   "cell_type": "markdown",
   "metadata": {},
   "source": [
    "#### Applying XGBoost"
   ]
  },
  {
   "cell_type": "code",
   "execution_count": 20,
   "metadata": {},
   "outputs": [],
   "source": [
    "xlf = xgb.XGBRegressor(max_depth=10, \n",
    "                        learning_rate=0.2, \n",
    "                        n_estimators=200, \n",
    "                        silent=True, \n",
    "                        objective='reg:linear', \n",
    "                        nthread=10, \n",
    "                        gamma=0, \n",
    "                        min_child_weight=1, \n",
    "                        max_delta_step=0, \n",
    "                        subsample=0.9, \n",
    "                        colsample_bytree=0.9, \n",
    "                        colsample_bylevel=1, \n",
    "                        reg_alpha=0, \n",
    "                        reg_lambda=1, \n",
    "                        scale_pos_weight=1, \n",
    "                        seed=100, \n",
    "                        eval_metric='auc',\n",
    "                        missing=None)"
   ]
  },
  {
   "cell_type": "code",
   "execution_count": 21,
   "metadata": {
    "scrolled": true
   },
   "outputs": [
    {
     "name": "stdout",
     "output_type": "stream",
     "text": [
      "[0]\tvalidation_0-auc:0.716964\n",
      "Will train until validation_0-auc hasn't improved in 500 rounds.\n",
      "[1]\tvalidation_0-auc:0.742643\n",
      "[2]\tvalidation_0-auc:0.754946\n",
      "[3]\tvalidation_0-auc:0.764116\n",
      "[4]\tvalidation_0-auc:0.772241\n",
      "[5]\tvalidation_0-auc:0.778537\n",
      "[6]\tvalidation_0-auc:0.784494\n",
      "[7]\tvalidation_0-auc:0.788894\n",
      "[8]\tvalidation_0-auc:0.793753\n",
      "[9]\tvalidation_0-auc:0.799157\n",
      "[10]\tvalidation_0-auc:0.803685\n",
      "[11]\tvalidation_0-auc:0.806783\n",
      "[12]\tvalidation_0-auc:0.812339\n",
      "[13]\tvalidation_0-auc:0.815779\n",
      "[14]\tvalidation_0-auc:0.817672\n",
      "[15]\tvalidation_0-auc:0.819832\n",
      "[16]\tvalidation_0-auc:0.822112\n",
      "[17]\tvalidation_0-auc:0.826373\n",
      "[18]\tvalidation_0-auc:0.828829\n",
      "[19]\tvalidation_0-auc:0.830331\n",
      "[20]\tvalidation_0-auc:0.833182\n",
      "[21]\tvalidation_0-auc:0.835648\n",
      "[22]\tvalidation_0-auc:0.83833\n",
      "[23]\tvalidation_0-auc:0.840296\n",
      "[24]\tvalidation_0-auc:0.841811\n",
      "[25]\tvalidation_0-auc:0.843295\n",
      "[26]\tvalidation_0-auc:0.844775\n",
      "[27]\tvalidation_0-auc:0.847354\n",
      "[28]\tvalidation_0-auc:0.848083\n",
      "[29]\tvalidation_0-auc:0.849966\n",
      "[30]\tvalidation_0-auc:0.852084\n",
      "[31]\tvalidation_0-auc:0.853044\n",
      "[32]\tvalidation_0-auc:0.855164\n",
      "[33]\tvalidation_0-auc:0.856633\n",
      "[34]\tvalidation_0-auc:0.857908\n",
      "[35]\tvalidation_0-auc:0.859279\n",
      "[36]\tvalidation_0-auc:0.861333\n",
      "[37]\tvalidation_0-auc:0.862259\n",
      "[38]\tvalidation_0-auc:0.863887\n",
      "[39]\tvalidation_0-auc:0.864873\n",
      "[40]\tvalidation_0-auc:0.865618\n",
      "[41]\tvalidation_0-auc:0.867383\n",
      "[42]\tvalidation_0-auc:0.86829\n",
      "[43]\tvalidation_0-auc:0.869574\n",
      "[44]\tvalidation_0-auc:0.869971\n",
      "[45]\tvalidation_0-auc:0.871113\n",
      "[46]\tvalidation_0-auc:0.872203\n",
      "[47]\tvalidation_0-auc:0.872751\n",
      "[48]\tvalidation_0-auc:0.873549\n",
      "[49]\tvalidation_0-auc:0.87521\n",
      "[50]\tvalidation_0-auc:0.876891\n",
      "[51]\tvalidation_0-auc:0.877928\n",
      "[52]\tvalidation_0-auc:0.879222\n",
      "[53]\tvalidation_0-auc:0.880876\n",
      "[54]\tvalidation_0-auc:0.88149\n",
      "[55]\tvalidation_0-auc:0.881653\n",
      "[56]\tvalidation_0-auc:0.882666\n",
      "[57]\tvalidation_0-auc:0.883685\n",
      "[58]\tvalidation_0-auc:0.884917\n",
      "[59]\tvalidation_0-auc:0.886326\n",
      "[60]\tvalidation_0-auc:0.887153\n",
      "[61]\tvalidation_0-auc:0.888186\n",
      "[62]\tvalidation_0-auc:0.889048\n",
      "[63]\tvalidation_0-auc:0.890243\n",
      "[64]\tvalidation_0-auc:0.891209\n",
      "[65]\tvalidation_0-auc:0.891918\n",
      "[66]\tvalidation_0-auc:0.892756\n",
      "[67]\tvalidation_0-auc:0.893649\n",
      "[68]\tvalidation_0-auc:0.895213\n",
      "[69]\tvalidation_0-auc:0.896192\n",
      "[70]\tvalidation_0-auc:0.897305\n",
      "[71]\tvalidation_0-auc:0.898306\n",
      "[72]\tvalidation_0-auc:0.89876\n",
      "[73]\tvalidation_0-auc:0.899918\n",
      "[74]\tvalidation_0-auc:0.900847\n",
      "[75]\tvalidation_0-auc:0.90128\n",
      "[76]\tvalidation_0-auc:0.902194\n",
      "[77]\tvalidation_0-auc:0.902935\n",
      "[78]\tvalidation_0-auc:0.903259\n",
      "[79]\tvalidation_0-auc:0.904374\n",
      "[80]\tvalidation_0-auc:0.904747\n",
      "[81]\tvalidation_0-auc:0.905063\n",
      "[82]\tvalidation_0-auc:0.905348\n",
      "[83]\tvalidation_0-auc:0.905705\n",
      "[84]\tvalidation_0-auc:0.906558\n",
      "[85]\tvalidation_0-auc:0.907132\n",
      "[86]\tvalidation_0-auc:0.908062\n",
      "[87]\tvalidation_0-auc:0.908584\n",
      "[88]\tvalidation_0-auc:0.90886\n",
      "[89]\tvalidation_0-auc:0.909289\n",
      "[90]\tvalidation_0-auc:0.910537\n",
      "[91]\tvalidation_0-auc:0.911108\n",
      "[92]\tvalidation_0-auc:0.911905\n",
      "[93]\tvalidation_0-auc:0.912526\n",
      "[94]\tvalidation_0-auc:0.913253\n",
      "[95]\tvalidation_0-auc:0.913566\n",
      "[96]\tvalidation_0-auc:0.914123\n",
      "[97]\tvalidation_0-auc:0.914744\n",
      "[98]\tvalidation_0-auc:0.915268\n",
      "[99]\tvalidation_0-auc:0.915878\n",
      "[100]\tvalidation_0-auc:0.916434\n",
      "[101]\tvalidation_0-auc:0.916783\n",
      "[102]\tvalidation_0-auc:0.917597\n",
      "[103]\tvalidation_0-auc:0.918061\n",
      "[104]\tvalidation_0-auc:0.918245\n",
      "[105]\tvalidation_0-auc:0.918939\n",
      "[106]\tvalidation_0-auc:0.919497\n",
      "[107]\tvalidation_0-auc:0.919862\n",
      "[108]\tvalidation_0-auc:0.920467\n",
      "[109]\tvalidation_0-auc:0.920731\n",
      "[110]\tvalidation_0-auc:0.921015\n",
      "[111]\tvalidation_0-auc:0.921245\n",
      "[112]\tvalidation_0-auc:0.921677\n",
      "[113]\tvalidation_0-auc:0.922404\n",
      "[114]\tvalidation_0-auc:0.922819\n",
      "[115]\tvalidation_0-auc:0.923304\n",
      "[116]\tvalidation_0-auc:0.923557\n",
      "[117]\tvalidation_0-auc:0.924128\n",
      "[118]\tvalidation_0-auc:0.924531\n",
      "[119]\tvalidation_0-auc:0.924877\n",
      "[120]\tvalidation_0-auc:0.92533\n",
      "[121]\tvalidation_0-auc:0.925925\n",
      "[122]\tvalidation_0-auc:0.926183\n",
      "[123]\tvalidation_0-auc:0.92681\n",
      "[124]\tvalidation_0-auc:0.927263\n",
      "[125]\tvalidation_0-auc:0.927394\n",
      "[126]\tvalidation_0-auc:0.927836\n",
      "[127]\tvalidation_0-auc:0.928036\n",
      "[128]\tvalidation_0-auc:0.928997\n",
      "[129]\tvalidation_0-auc:0.92925\n",
      "[130]\tvalidation_0-auc:0.929693\n",
      "[131]\tvalidation_0-auc:0.930108\n",
      "[132]\tvalidation_0-auc:0.930425\n",
      "[133]\tvalidation_0-auc:0.930962\n",
      "[134]\tvalidation_0-auc:0.931358\n",
      "[135]\tvalidation_0-auc:0.931486\n",
      "[136]\tvalidation_0-auc:0.932125\n",
      "[137]\tvalidation_0-auc:0.932157\n",
      "[138]\tvalidation_0-auc:0.932362\n",
      "[139]\tvalidation_0-auc:0.933049\n",
      "[140]\tvalidation_0-auc:0.933581\n",
      "[141]\tvalidation_0-auc:0.934027\n",
      "[142]\tvalidation_0-auc:0.934523\n",
      "[143]\tvalidation_0-auc:0.934697\n",
      "[144]\tvalidation_0-auc:0.934973\n",
      "[145]\tvalidation_0-auc:0.935438\n",
      "[146]\tvalidation_0-auc:0.935829\n",
      "[147]\tvalidation_0-auc:0.936264\n",
      "[148]\tvalidation_0-auc:0.936546\n",
      "[149]\tvalidation_0-auc:0.936764\n",
      "[150]\tvalidation_0-auc:0.93716\n",
      "[151]\tvalidation_0-auc:0.93735\n",
      "[152]\tvalidation_0-auc:0.937686\n",
      "[153]\tvalidation_0-auc:0.937956\n",
      "[154]\tvalidation_0-auc:0.938233\n",
      "[155]\tvalidation_0-auc:0.938439\n",
      "[156]\tvalidation_0-auc:0.938697\n",
      "[157]\tvalidation_0-auc:0.939124\n",
      "[158]\tvalidation_0-auc:0.939297\n",
      "[159]\tvalidation_0-auc:0.939466\n",
      "[160]\tvalidation_0-auc:0.939855\n",
      "[161]\tvalidation_0-auc:0.940181\n",
      "[162]\tvalidation_0-auc:0.940271\n",
      "[163]\tvalidation_0-auc:0.940634\n",
      "[164]\tvalidation_0-auc:0.941171\n",
      "[165]\tvalidation_0-auc:0.941652\n",
      "[166]\tvalidation_0-auc:0.942159\n",
      "[167]\tvalidation_0-auc:0.942269\n",
      "[168]\tvalidation_0-auc:0.942416\n",
      "[169]\tvalidation_0-auc:0.942845\n",
      "[170]\tvalidation_0-auc:0.943047\n",
      "[171]\tvalidation_0-auc:0.943245\n",
      "[172]\tvalidation_0-auc:0.943394\n",
      "[173]\tvalidation_0-auc:0.943684\n",
      "[174]\tvalidation_0-auc:0.94402\n",
      "[175]\tvalidation_0-auc:0.944187\n",
      "[176]\tvalidation_0-auc:0.944403\n",
      "[177]\tvalidation_0-auc:0.944646\n",
      "[178]\tvalidation_0-auc:0.944927\n",
      "[179]\tvalidation_0-auc:0.945209\n",
      "[180]\tvalidation_0-auc:0.94553\n",
      "[181]\tvalidation_0-auc:0.945778\n",
      "[182]\tvalidation_0-auc:0.946094\n",
      "[183]\tvalidation_0-auc:0.946324\n",
      "[184]\tvalidation_0-auc:0.94671\n",
      "[185]\tvalidation_0-auc:0.946863\n",
      "[186]\tvalidation_0-auc:0.947105\n",
      "[187]\tvalidation_0-auc:0.947245\n",
      "[188]\tvalidation_0-auc:0.9476\n",
      "[189]\tvalidation_0-auc:0.948018\n",
      "[190]\tvalidation_0-auc:0.948141\n",
      "[191]\tvalidation_0-auc:0.948443\n",
      "[192]\tvalidation_0-auc:0.948551\n",
      "[193]\tvalidation_0-auc:0.948775\n",
      "[194]\tvalidation_0-auc:0.949059\n",
      "[195]\tvalidation_0-auc:0.949259\n",
      "[196]\tvalidation_0-auc:0.949465\n",
      "[197]\tvalidation_0-auc:0.949823\n",
      "[198]\tvalidation_0-auc:0.950043\n",
      "[199]\tvalidation_0-auc:0.950321\n"
     ]
    },
    {
     "data": {
      "text/plain": [
       "XGBRegressor(base_score=0.5, booster='gbtree', colsample_bylevel=1,\n",
       "       colsample_bytree=0.9, eval_metric='auc', gamma=0, learning_rate=0.2,\n",
       "       max_delta_step=0, max_depth=10, min_child_weight=1, missing=None,\n",
       "       n_estimators=200, n_jobs=1, nthread=10, objective='reg:linear',\n",
       "       random_state=0, reg_alpha=0, reg_lambda=1, scale_pos_weight=1,\n",
       "       seed=100, silent=True, subsample=0.9)"
      ]
     },
     "execution_count": 21,
     "metadata": {},
     "output_type": "execute_result"
    }
   ],
   "source": [
    "xlf.fit(X_split_train, Y_split_train, eval_metric='auc', verbose = True, \\\n",
    "        eval_set = [(X_split_train, Y_split_train)], early_stopping_rounds=500)\n",
    "\n",
    "# xlf.fit(X_train_rescaled, Y_train, eval_metric='auc', verbose = True)"
   ]
  },
  {
   "cell_type": "code",
   "execution_count": 22,
   "metadata": {},
   "outputs": [],
   "source": [
    "predictions = xlf.predict(X_test_rescaled)"
   ]
  },
  {
   "cell_type": "code",
   "execution_count": 26,
   "metadata": {},
   "outputs": [
    {
     "data": {
      "text/plain": [
       "array([ 0.8320092 ,  0.39496756,  0.03182447, ...,  0.30192417,\n",
       "        0.07910615,  0.13096502], dtype=float32)"
      ]
     },
     "execution_count": 26,
     "metadata": {},
     "output_type": "execute_result"
    }
   ],
   "source": [
    "predictions"
   ]
  },
  {
   "cell_type": "markdown",
   "metadata": {},
   "source": [
    "#### Saving txt file"
   ]
  },
  {
   "cell_type": "code",
   "execution_count": 24,
   "metadata": {},
   "outputs": [],
   "source": [
    "Y_test = np.vstack((np.arange(X_test.shape[0]), predictions)).T"
   ]
  },
  {
   "cell_type": "code",
   "execution_count": 25,
   "metadata": {},
   "outputs": [],
   "source": [
    "np.savetxt('Y_submit_XGBoost_v3.txt', Y_test, '%d, %.2f', header='ID,Prob1', comments='', delimiter=',')"
   ]
  },
  {
   "cell_type": "code",
   "execution_count": null,
   "metadata": {},
   "outputs": [],
   "source": []
  }
 ],
 "metadata": {
  "kernelspec": {
   "display_name": "Python 3",
   "language": "python",
   "name": "python3"
  },
  "language_info": {
   "codemirror_mode": {
    "name": "ipython",
    "version": 3
   },
   "file_extension": ".py",
   "mimetype": "text/x-python",
   "name": "python",
   "nbconvert_exporter": "python",
   "pygments_lexer": "ipython3",
   "version": "3.5.4"
  }
 },
 "nbformat": 4,
 "nbformat_minor": 2
}
