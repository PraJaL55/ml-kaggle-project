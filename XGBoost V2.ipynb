{
 "cells": [
  {
   "cell_type": "code",
   "execution_count": 2,
   "metadata": {},
   "outputs": [],
   "source": [
    "import numpy as np\n",
    "import mltools as ml\n",
    "import xgboost as xgb"
   ]
  },
  {
   "cell_type": "code",
   "execution_count": 3,
   "metadata": {},
   "outputs": [],
   "source": [
    "from sklearn.model_selection import train_test_split"
   ]
  },
  {
   "cell_type": "code",
   "execution_count": 4,
   "metadata": {},
   "outputs": [],
   "source": [
    "np.random.seed(9)"
   ]
  },
  {
   "cell_type": "code",
   "execution_count": 5,
   "metadata": {},
   "outputs": [],
   "source": [
    "X_train = np.genfromtxt('data/X_train.txt', delimiter=None)\n",
    "Y_train = np.genfromtxt('data/Y_train.txt', delimiter=None)\n",
    "X_test = np.genfromtxt('data/X_test.txt', delimiter=None)"
   ]
  },
  {
   "cell_type": "markdown",
   "metadata": {},
   "source": [
    "#### Rescaling Data"
   ]
  },
  {
   "cell_type": "code",
   "execution_count": 6,
   "metadata": {},
   "outputs": [],
   "source": [
    "X_train_rescaled, parameters = ml.rescale(X_train)\n",
    "X_test_rescaled, _ = ml.rescale(X_test, parameters)"
   ]
  },
  {
   "cell_type": "markdown",
   "metadata": {},
   "source": [
    "#### Split data into Train and Validate"
   ]
  },
  {
   "cell_type": "code",
   "execution_count": 7,
   "metadata": {},
   "outputs": [],
   "source": [
    "X_split_train, X_split_validation, Y_split_train, Y_split_validation = \\\n",
    "                                                train_test_split(X_train_rescaled, Y_train, test_size = 0.3)"
   ]
  },
  {
   "cell_type": "markdown",
   "metadata": {},
   "source": [
    "#### Applying XGBoost"
   ]
  },
  {
   "cell_type": "code",
   "execution_count": 8,
   "metadata": {},
   "outputs": [],
   "source": [
    "xlf = xgb.XGBRegressor(max_depth=6,\n",
    "                       objective='binary:logistic',\n",
    "                       booster = 'gbtree',\n",
    "                       subsample=1,\n",
    "                       colsample_bytree=0.85,\n",
    "                       eval_metric='auc') "
   ]
  },
  {
   "cell_type": "code",
   "execution_count": 15,
   "metadata": {
    "scrolled": true
   },
   "outputs": [
    {
     "name": "stdout",
     "output_type": "stream",
     "text": [
      "[0]\tvalidation_0-auc:0.675584\n",
      "Will train until validation_0-auc hasn't improved in 500 rounds.\n",
      "[1]\tvalidation_0-auc:0.68185\n",
      "[2]\tvalidation_0-auc:0.683596\n",
      "[3]\tvalidation_0-auc:0.685653\n",
      "[4]\tvalidation_0-auc:0.68712\n",
      "[5]\tvalidation_0-auc:0.688308\n",
      "[6]\tvalidation_0-auc:0.689007\n",
      "[7]\tvalidation_0-auc:0.690445\n",
      "[8]\tvalidation_0-auc:0.691957\n",
      "[9]\tvalidation_0-auc:0.693452\n",
      "[10]\tvalidation_0-auc:0.694373\n",
      "[11]\tvalidation_0-auc:0.69652\n",
      "[12]\tvalidation_0-auc:0.69807\n",
      "[13]\tvalidation_0-auc:0.700486\n",
      "[14]\tvalidation_0-auc:0.700962\n",
      "[15]\tvalidation_0-auc:0.701489\n",
      "[16]\tvalidation_0-auc:0.702226\n",
      "[17]\tvalidation_0-auc:0.703259\n",
      "[18]\tvalidation_0-auc:0.704764\n",
      "[19]\tvalidation_0-auc:0.705832\n",
      "[20]\tvalidation_0-auc:0.706881\n",
      "[21]\tvalidation_0-auc:0.708354\n",
      "[22]\tvalidation_0-auc:0.708941\n",
      "[23]\tvalidation_0-auc:0.709572\n",
      "[24]\tvalidation_0-auc:0.710333\n",
      "[25]\tvalidation_0-auc:0.711766\n",
      "[26]\tvalidation_0-auc:0.712421\n",
      "[27]\tvalidation_0-auc:0.713115\n",
      "[28]\tvalidation_0-auc:0.714492\n",
      "[29]\tvalidation_0-auc:0.716212\n",
      "[30]\tvalidation_0-auc:0.7174\n",
      "[31]\tvalidation_0-auc:0.719203\n",
      "[32]\tvalidation_0-auc:0.720427\n",
      "[33]\tvalidation_0-auc:0.721216\n",
      "[34]\tvalidation_0-auc:0.722102\n",
      "[35]\tvalidation_0-auc:0.723239\n",
      "[36]\tvalidation_0-auc:0.723823\n",
      "[37]\tvalidation_0-auc:0.72423\n",
      "[38]\tvalidation_0-auc:0.725446\n",
      "[39]\tvalidation_0-auc:0.726194\n",
      "[40]\tvalidation_0-auc:0.726855\n",
      "[41]\tvalidation_0-auc:0.727375\n",
      "[42]\tvalidation_0-auc:0.728436\n",
      "[43]\tvalidation_0-auc:0.729135\n",
      "[44]\tvalidation_0-auc:0.729957\n",
      "[45]\tvalidation_0-auc:0.730479\n",
      "[46]\tvalidation_0-auc:0.730987\n",
      "[47]\tvalidation_0-auc:0.731225\n",
      "[48]\tvalidation_0-auc:0.731813\n",
      "[49]\tvalidation_0-auc:0.731984\n",
      "[50]\tvalidation_0-auc:0.732504\n",
      "[51]\tvalidation_0-auc:0.732925\n",
      "[52]\tvalidation_0-auc:0.733633\n",
      "[53]\tvalidation_0-auc:0.734651\n",
      "[54]\tvalidation_0-auc:0.734847\n",
      "[55]\tvalidation_0-auc:0.735379\n",
      "[56]\tvalidation_0-auc:0.735565\n",
      "[57]\tvalidation_0-auc:0.736095\n",
      "[58]\tvalidation_0-auc:0.736405\n",
      "[59]\tvalidation_0-auc:0.736501\n",
      "[60]\tvalidation_0-auc:0.737185\n",
      "[61]\tvalidation_0-auc:0.738246\n",
      "[62]\tvalidation_0-auc:0.7387\n",
      "[63]\tvalidation_0-auc:0.739459\n",
      "[64]\tvalidation_0-auc:0.739876\n",
      "[65]\tvalidation_0-auc:0.740302\n",
      "[66]\tvalidation_0-auc:0.740481\n",
      "[67]\tvalidation_0-auc:0.741099\n",
      "[68]\tvalidation_0-auc:0.741796\n",
      "[69]\tvalidation_0-auc:0.742109\n",
      "[70]\tvalidation_0-auc:0.742502\n",
      "[71]\tvalidation_0-auc:0.742787\n",
      "[72]\tvalidation_0-auc:0.743106\n",
      "[73]\tvalidation_0-auc:0.743566\n",
      "[74]\tvalidation_0-auc:0.744042\n",
      "[75]\tvalidation_0-auc:0.744493\n",
      "[76]\tvalidation_0-auc:0.74499\n",
      "[77]\tvalidation_0-auc:0.746087\n",
      "[78]\tvalidation_0-auc:0.746439\n",
      "[79]\tvalidation_0-auc:0.746813\n",
      "[80]\tvalidation_0-auc:0.747389\n",
      "[81]\tvalidation_0-auc:0.748013\n",
      "[82]\tvalidation_0-auc:0.74842\n",
      "[83]\tvalidation_0-auc:0.749522\n",
      "[84]\tvalidation_0-auc:0.749668\n",
      "[85]\tvalidation_0-auc:0.749924\n",
      "[86]\tvalidation_0-auc:0.750417\n",
      "[87]\tvalidation_0-auc:0.750635\n",
      "[88]\tvalidation_0-auc:0.750895\n",
      "[89]\tvalidation_0-auc:0.75097\n",
      "[90]\tvalidation_0-auc:0.751218\n",
      "[91]\tvalidation_0-auc:0.751276\n",
      "[92]\tvalidation_0-auc:0.752053\n",
      "[93]\tvalidation_0-auc:0.75257\n",
      "[94]\tvalidation_0-auc:0.753049\n",
      "[95]\tvalidation_0-auc:0.753278\n",
      "[96]\tvalidation_0-auc:0.753829\n",
      "[97]\tvalidation_0-auc:0.75429\n",
      "[98]\tvalidation_0-auc:0.754364\n",
      "[99]\tvalidation_0-auc:0.754751\n"
     ]
    },
    {
     "data": {
      "text/plain": [
       "XGBRegressor(base_score=0.5, booster='gbtree', colsample_bylevel=1,\n",
       "       colsample_bytree=0.85, eval_metric='auc', gamma=0,\n",
       "       learning_rate=0.1, max_delta_step=0, max_depth=6,\n",
       "       min_child_weight=1, missing=None, n_estimators=100, n_jobs=1,\n",
       "       nthread=None, objective='binary:logistic', random_state=0,\n",
       "       reg_alpha=0, reg_lambda=1, scale_pos_weight=1, seed=None,\n",
       "       silent=True, subsample=1)"
      ]
     },
     "execution_count": 15,
     "metadata": {},
     "output_type": "execute_result"
    }
   ],
   "source": [
    "xlf.fit(X_split_train, Y_split_train, eval_metric='auc', verbose = True, \\\n",
    "        eval_set = [(X_split_train, Y_split_train)], early_stopping_rounds=100)\n",
    "\n",
    "# xlf.fit(X_train_rescaled, Y_train, eval_metric='auc', verbose = True)"
   ]
  },
  {
   "cell_type": "code",
   "execution_count": 10,
   "metadata": {},
   "outputs": [],
   "source": [
    "predictions = xlf.predict(X_test_rescaled)"
   ]
  },
  {
   "cell_type": "code",
   "execution_count": 11,
   "metadata": {},
   "outputs": [
    {
     "data": {
      "text/plain": [
       "array([ 0.57764763,  0.40613833,  0.1747202 , ...,  0.18124287,\n",
       "        0.14698055,  0.175818  ], dtype=float32)"
      ]
     },
     "execution_count": 11,
     "metadata": {},
     "output_type": "execute_result"
    }
   ],
   "source": [
    "predictions #1"
   ]
  },
  {
   "cell_type": "markdown",
   "metadata": {},
   "source": [
    "#### Saving txt file"
   ]
  },
  {
   "cell_type": "code",
   "execution_count": 12,
   "metadata": {},
   "outputs": [],
   "source": [
    "Y_test = np.vstack((np.arange(X_test.shape[0]), predictions)).T"
   ]
  },
  {
   "cell_type": "code",
   "execution_count": 13,
   "metadata": {},
   "outputs": [],
   "source": [
    "np.savetxt('Y_submit_XGBoost_v2.txt', Y_test, '%d, %.2f', header='ID,Prob1', comments='', delimiter=',')"
   ]
  },
  {
   "cell_type": "code",
   "execution_count": null,
   "metadata": {},
   "outputs": [],
   "source": []
  }
 ],
 "metadata": {
  "kernelspec": {
   "display_name": "Python 3",
   "language": "python",
   "name": "python3"
  },
  "language_info": {
   "codemirror_mode": {
    "name": "ipython",
    "version": 3
   },
   "file_extension": ".py",
   "mimetype": "text/x-python",
   "name": "python",
   "nbconvert_exporter": "python",
   "pygments_lexer": "ipython3",
   "version": "3.5.4"
  }
 },
 "nbformat": 4,
 "nbformat_minor": 2
}
