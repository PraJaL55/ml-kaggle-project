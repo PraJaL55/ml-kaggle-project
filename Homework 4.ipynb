{
 "cells": [
  {
   "cell_type": "markdown",
   "metadata": {},
   "source": [
    "# Homework 3"
   ]
  },
  {
   "cell_type": "markdown",
   "metadata": {},
   "source": [
    "### 1 Setting up the data "
   ]
  },
  {
   "cell_type": "code",
   "execution_count": 1,
   "metadata": {},
   "outputs": [],
   "source": [
    "import numpy as np\n",
    "import matplotlib.pyplot as plt\n",
    "import mltools as ml\n",
    "\n",
    "np.random.seed(0)\n",
    "%matplotlib inline"
   ]
  },
  {
   "cell_type": "code",
   "execution_count": 3,
   "metadata": {},
   "outputs": [
    {
     "data": {
      "text/plain": [
       "(200000, 14)"
      ]
     },
     "execution_count": 3,
     "metadata": {},
     "output_type": "execute_result"
    }
   ],
   "source": [
    "X = np.genfromtxt('data/X_train.txt', delimiter=None)\n",
    "Y = np.genfromtxt('data/Y_train.txt', delimiter=None)\n",
    "X,Y = ml.shuffleData(X,Y)\n",
    "X.shape"
   ]
  },
  {
   "cell_type": "markdown",
   "metadata": {},
   "source": [
    "#### 1.1"
   ]
  },
  {
   "cell_type": "code",
   "execution_count": 4,
   "metadata": {},
   "outputs": [
    {
     "name": "stdout",
     "output_type": "stream",
     "text": [
      "Maximum: [  2.53000000e+02   2.49000000e+02   2.52500000e+02   2.52500000e+02\n",
      "   3.10480000e+04   1.36300000e+04   9.23800000e+03   1.25170000e+02\n",
      "   1.91670000e+01   1.32300000e+01   6.67610000e+01   7.39020000e+01\n",
      "   9.75040000e+02   7.97200000e+02]\n",
      "Minimum: [  1.93500000e+02   1.52500000e+02   2.14250000e+02   1.52500000e+02\n",
      "   1.00000000e+01   0.00000000e+00   0.00000000e+00   0.00000000e+00\n",
      "   8.75890000e-01   0.00000000e+00   0.00000000e+00   0.00000000e+00\n",
      "   9.90490000e-01  -9.99900000e+02]\n",
      "Mean: [  2.41601104e+02   2.27376571e+02   2.41554150e+02   2.32826768e+02\n",
      "   3.08992337e+03   9.28259020e+02   1.38093830e+02   3.24857933e+00\n",
      "   6.49865290e+00   2.09713912e+00   4.21766041e+00   2.69171845e+00\n",
      "   1.02715905e+01   5.78148050e+00]\n",
      "Var:  [  8.34991711e+01   9.26255931e+01   3.52863398e+01   9.76257317e+01\n",
      "   1.56515138e+07   3.08176182e+06   4.43951746e+05   8.21948502e+00\n",
      "   6.40504819e+00   4.36344047e+00   4.08637188e+00   2.19877847e+00\n",
      "   4.04646245e+02   3.40652055e+03]\n"
     ]
    }
   ],
   "source": [
    "print('Maximum:', np.max(X, axis=0))\n",
    "print('Minimum:', np.min(X, axis=0))\n",
    "print('Mean:', np.mean(X,axis=0))\n",
    "print('Var: ', np.var(X,axis=0))"
   ]
  },
  {
   "cell_type": "markdown",
   "metadata": {},
   "source": [
    "#### 1.2"
   ]
  },
  {
   "cell_type": "code",
   "execution_count": 5,
   "metadata": {},
   "outputs": [],
   "source": [
    "Xtr, Xva, Ytr, Yva = ml.splitData(X, Y) \n",
    "Xt, Yt = Xtr[:5000], Ytr[:5000] # subsample for efficiency (you can go higher) \n",
    "XtS, params = ml.rescale(Xt) # Normalize the features \n",
    "XvS, _ = ml.rescale(Xva, params) # Normalize the features"
   ]
  },
  {
   "cell_type": "code",
   "execution_count": 6,
   "metadata": {},
   "outputs": [
    {
     "name": "stdout",
     "output_type": "stream",
     "text": [
      "Rescaled Training Data:\n",
      "Maximum: [  1.24467764   1.81425059   1.80668179   1.95449774   7.30095389\n",
      "   7.3734214   13.76719683   7.35307847   4.7265899    5.43214474\n",
      "   7.41739991   6.11287977  37.41876648  12.78474766]\n",
      "Minimum: [ -4.42216573  -3.8379954   -4.59918459  -2.91081643  -0.77951138\n",
      "  -0.5162351   -0.20010711  -1.13819869  -2.10058928  -0.98959137\n",
      "  -2.10536922  -1.94981435  -0.37599778 -16.3042146 ]\n",
      "Mean: [  1.06831266e-14   8.26561042e-16  -3.05723447e-14  -1.16594401e-14\n",
      "  -2.48689958e-17   2.87869728e-16  -1.27531319e-16   1.56654689e-15\n",
      "  -1.87889704e-15  -2.18238483e-15   1.36182177e-15   3.20241611e-15\n",
      "   1.23601129e-16   6.18449736e-17]\n",
      "Var:  [ 1.  1.  1.  1.  1.  1.  1.  1.  1.  1.  1.  1.  1.  1.]\n"
     ]
    }
   ],
   "source": [
    "print('Rescaled Training Data:')\n",
    "print('Maximum:', np.max(XtS, axis=0))\n",
    "print('Minimum:', np.min(XtS, axis=0))\n",
    "print('Mean:', np.mean(XtS,axis=0))\n",
    "print('Var: ', np.var(XtS,axis=0))"
   ]
  },
  {
   "cell_type": "code",
   "execution_count": 7,
   "metadata": {},
   "outputs": [
    {
     "name": "stdout",
     "output_type": "stream",
     "text": [
      "Rescaled Validation Data:\n",
      "Maximum: [  1.24467764   2.23293548   1.82684188   1.96667117   7.30095389\n",
      "   7.3734214   13.76719683   8.79005323   4.63570003   5.43214474\n",
      "  31.18517851  51.87577017  37.41876648  12.84638713]\n",
      "Minimum: [ -5.16853047  -3.94266662  -4.47822409  -2.91081643  -0.77951138\n",
      "  -0.5162351   -0.20010711  -1.13819869  -2.20331072  -0.98959137\n",
      "  -2.10536922  -1.94981435  -0.37803148 -16.3042146 ]\n",
      "Mean: [-0.01060523 -0.02050661 -0.00214827 -0.0196729   0.02250219  0.02193817\n",
      "  0.0063063  -0.01349193  0.02002224  0.01896851  0.00145389  0.00757509\n",
      " -0.01767348  0.01011508]\n",
      "Var:  [ 1.01024379  1.00357011  0.98673104  0.99491919  1.08000814  1.07093091\n",
      "  1.01268889  0.9837464   0.99798803  1.01208974  1.04616652  1.17356962\n",
      "  0.53850476  0.86569107]\n"
     ]
    }
   ],
   "source": [
    "print('Rescaled Validation Data:')\n",
    "print('Maximum:', np.max(XvS, axis=0))\n",
    "print('Minimum:', np.min(XvS, axis=0))\n",
    "print('Mean:', np.mean(XvS,axis=0))\n",
    "print('Var: ', np.var(XvS,axis=0))"
   ]
  },
  {
   "cell_type": "markdown",
   "metadata": {},
   "source": [
    "### 2 Linear Classiﬁers "
   ]
  },
  {
   "cell_type": "code",
   "execution_count": 16,
   "metadata": {},
   "outputs": [
    {
     "name": "stderr",
     "output_type": "stream",
     "text": [
      "C:\\Users\\PraJaL\\Documents\\Python Scripts\\mltools\\linearC.py:122: RuntimeWarning: overflow encountered in exp\n",
      "  sigx  = np.exp(respi) / (1.0+np.exp(respi))\n",
      "C:\\Users\\PraJaL\\Documents\\Python Scripts\\mltools\\linearC.py:122: RuntimeWarning: invalid value encountered in true_divide\n",
      "  sigx  = np.exp(respi) / (1.0+np.exp(respi))\n",
      "C:\\Users\\PraJaL\\Documents\\Python Scripts\\mltools\\linearC.py:121: RuntimeWarning: invalid value encountered in greater\n",
      "  yhati = 1.0 if respi > 0 else 0.0   # convert to 0/1 prediction\n"
     ]
    }
   ],
   "source": [
    "learner = ml.linearC.linearClassify()\n",
    "reg = np.linspace(0,8,21)\n",
    "TrAuc = []\n",
    "VaAuc = []\n",
    "for i in reg:\n",
    "    learner.train(XtS, Yt, i, initStep=0.5, stopTol=1e-6, stopIter=100)\n",
    "    TrAuc.append(learner.auc(XtS, Yt)) # train AUC\n",
    "    VaAuc.append(learner.auc(XvS,Yva))"
   ]
  },
  {
   "cell_type": "code",
   "execution_count": 17,
   "metadata": {},
   "outputs": [
    {
     "data": {
      "image/png": "[encoded data removed]",
      "text/plain": [
       "<matplotlib.figure.Figure at 0x2419332f358>"
      ]
     },
     "metadata": {},
     "output_type": "display_data"
    }
   ],
   "source": [
    "plt.plot(reg, TrAuc, lw=3, color='blue', alpha=0.75, label='Train Auc')\n",
    "plt.plot(reg, VaAuc, lw=3, color='red', alpha=0.75, label='Validation Auc')\n",
    "plt.legend(fontsize=15, loc=0)\n",
    "plt.show()"
   ]
  },
  {
   "cell_type": "markdown",
   "metadata": {},
   "source": [
    "#### As we can see, for legularization, as we increase the term, the train as well as validation AUC drops drastically then becomes constant. This is because increasing leg term would more likely underfit the data (model becomes smooth) till it is just random ( auc=0.5)\n",
    "\n",
    "#### 2.2"
   ]
  },
  {
   "cell_type": "code",
   "execution_count": 4,
   "metadata": {
    "collapsed": true
   },
   "outputs": [],
   "source": [
    "XtP = ml.transforms.fpoly(Xt,2, bias=False)\n",
    "XtPoly,params = ml.rescale(XtP)\n",
    "\n",
    "XvP = ml.transforms.fpoly(Xva,2, bias=False)\n",
    "XvPoly, _ = ml.rescale(XvP, params)"
   ]
  },
  {
   "cell_type": "code",
   "execution_count": 19,
   "metadata": {},
   "outputs": [
    {
     "name": "stdout",
     "output_type": "stream",
     "text": [
      "Features: 119\n",
      "Features: 119\n"
     ]
    }
   ],
   "source": [
    "print('Features:', XtPoly.shape[1])\n",
    "print('Features:', XvPoly.shape[1])"
   ]
  },
  {
   "cell_type": "markdown",
   "metadata": {},
   "source": [
    "#### As we can see, our features increased from 14 to 119. This happened because fpoly adds all cross product features as well. So apart from sqaures i.e - x1^2, x2^2 ...and so on, it also adds x1*x2, x1*x3, x2*x3 ....and so on. Hence 14 orignal + 14 sqaures + 14c2 (91) = 119 features\n",
    "#### 2.3"
   ]
  },
  {
   "cell_type": "code",
   "execution_count": 56,
   "metadata": {},
   "outputs": [
    {
     "name": "stderr",
     "output_type": "stream",
     "text": [
      "C:\\Users\\PraJaL\\Documents\\Python Scripts\\mltools\\base.py:97: RuntimeWarning: divide by zero encountered in log\n",
      "  return - np.mean( np.log( P[ np.arange(M), Y ] ) ) # evaluate\n",
      "C:\\Users\\PraJaL\\Documents\\Python Scripts\\mltools\\linearC.py:134: RuntimeWarning: invalid value encountered in double_scalars\n",
      "  done = (it > stopIter) or ( (it>1) and (abs(Jsur[-1]-Jsur[-2])<stopTol) )\n"
     ]
    }
   ],
   "source": [
    "reg = np.linspace(0,8,21)\n",
    "TrAucP = []\n",
    "VaAucP = []\n",
    "learner1 = ml.linearC.linearClassify()\n",
    "for i in reg:\n",
    "    learner1.train(XtPoly, Yt, i, initStep=1e-3, stopTol=1e-8, stopIter=100)\n",
    "    TrAucP.append(learner1.auc(XtPoly, Yt)) # train AUC\n",
    "    VaAucP.append(learner1.auc(XvPoly,Yva))"
   ]
  },
  {
   "cell_type": "code",
   "execution_count": 57,
   "metadata": {},
   "outputs": [
    {
     "data": {
      "image/png": "[encoded data removed]",
      "text/plain": [
       "<matplotlib.figure.Figure at 0x23b81735e10>"
      ]
     },
     "metadata": {},
     "output_type": "display_data"
    }
   ],
   "source": [
    "plt.plot(reg, TrAucP, lw=3, color='blue', alpha=0.75, label='Train Auc D2')\n",
    "plt.plot(reg, VaAucP, lw=3, color='red', alpha=0.75, label='Validation Auc D2')\n",
    "plt.legend(fontsize=15, loc=0)\n",
    "plt.show()"
   ]
  },
  {
   "cell_type": "markdown",
   "metadata": {},
   "source": [
    "### 3 Nearest Neighbors"
   ]
  },
  {
   "cell_type": "code",
   "execution_count": 29,
   "metadata": {},
   "outputs": [
    {
     "name": "stdout",
     "output_type": "stream",
     "text": [
      "[ 1  7 13 19 25 31 37 43 49]\n"
     ]
    }
   ],
   "source": [
    "knnlearner = ml.knn.knnClassify()\n",
    "K = np.arange(1,51,6)\n",
    "print(K)\n",
    "knnTAuc = []\n",
    "knnVAuc = []\n",
    "for i in K:\n",
    "    knnlearner.train(XtS, Yt, i, alpha=0.0)\n",
    "    knnTAuc.append(knnlearner.auc(XtS, Yt)) # train AUC\n",
    "    knnVAuc.append(knnlearner.auc(XvS,Yva))"
   ]
  },
  {
   "cell_type": "markdown",
   "metadata": {},
   "source": [
    "#### 3.1"
   ]
  },
  {
   "cell_type": "code",
   "execution_count": 30,
   "metadata": {},
   "outputs": [
    {
     "data": {
      "image/png": "[encoded data removed]",
      "text/plain": [
       "<matplotlib.figure.Figure at 0x2419a995048>"
      ]
     },
     "metadata": {},
     "output_type": "display_data"
    }
   ],
   "source": [
    "plt.plot(K, knnTAuc, lw=3, color='blue', alpha=0.75, label='Train Auc alph=0')\n",
    "plt.plot(K, knnVAuc, lw=3, color='red', alpha=0.75, label='Validation Auc alph=0')\n",
    "plt.legend(fontsize=15, loc=0)\n",
    "plt.show()"
   ]
  },
  {
   "cell_type": "markdown",
   "metadata": {},
   "source": [
    "#### 3.2"
   ]
  },
  {
   "cell_type": "code",
   "execution_count": 5,
   "metadata": {},
   "outputs": [],
   "source": [
    "K2 = [1, 7, 15, 25]\n",
    "knnlearner2 = ml.knn.knnClassify()\n",
    "knnTAucOri = []\n",
    "knnVAucOri = []\n",
    "for i in K2:\n",
    "    knnlearner2.train(Xt, Yt, i, alpha=0.0)\n",
    "    knnTAucOri.append(knnlearner2.auc(Xt, Yt)) # train AUC\n",
    "    knnVAucOri.append(knnlearner2.auc(Xva,Yva))"
   ]
  },
  {
   "cell_type": "code",
   "execution_count": 6,
   "metadata": {},
   "outputs": [
    {
     "data": {
      "image/png": "[encoded data removed]",
      "text/plain": [
       "<matplotlib.figure.Figure at 0x23b81e21208>"
      ]
     },
     "metadata": {},
     "output_type": "display_data"
    }
   ],
   "source": [
    "plt.plot(K2, knnTAucOri, lw=3, color='blue', alpha=0.75, label='Train Orig Auc alph=0')\n",
    "plt.plot(K2, knnVAucOri, lw=3, color='red', alpha=0.75, label='Valid Orig Auc alph=0')\n",
    "plt.legend(fontsize=15, loc=0)\n",
    "plt.show()"
   ]
  },
  {
   "cell_type": "markdown",
   "metadata": {},
   "source": [
    "#### Looking at both the graphs, I believe Scaled data would be a better choice\n",
    "#### 3.3"
   ]
  },
  {
   "cell_type": "code",
   "execution_count": 23,
   "metadata": {},
   "outputs": [
    {
     "name": "stderr",
     "output_type": "stream",
     "text": [
      "C:\\Users\\PraJaL\\Documents\\Python Scripts\\mltools\\knn.py:103: RuntimeWarning: invalid value encountered in true_divide\n",
      "  prob[i,:] = count / count.sum()    # save (soft) results\n"
     ]
    }
   ],
   "source": [
    "K = [1, 10, 25]\n",
    "A = range(1,4,1)\n",
    "knnlearner3 = ml.knn.knnClassify()\n",
    "tr_auc = np.zeros((len(K),len(A)))\n",
    "va_auc = np.zeros((len(K),len(A)))\n",
    "for i,k in enumerate(K): \n",
    "    for j,a in enumerate(A):\n",
    "        knnlearner3.train(XtS, Yt, k, a)\n",
    "        tr_auc[i][j] = knnlearner3.auc(XtS, Yt)\n",
    "        va_auc[i][j] = knnlearner3.auc(XvS,Yva)"
   ]
  },
  {
   "cell_type": "code",
   "execution_count": 27,
   "metadata": {},
   "outputs": [
    {
     "data": {
      "image/png": "[encoded data removed]",
      "text/plain": [
       "<matplotlib.figure.Figure at 0x23bf3fdc1d0>"
      ]
     },
     "metadata": {},
     "output_type": "display_data"
    }
   ],
   "source": [
    "f, ax = plt.subplots(1, 1, figsize=(8, 5)) \n",
    "cax = ax.matshow(tr_auc, interpolation='nearest') \n",
    "f.colorbar(cax) \n",
    "ax.set_xticklabels(['tr']+[k for k in K]) \n",
    "ax.set_yticklabels(['tr']+[a for a in A])\n",
    "ax.legend(\"Tr_Auc\")\n",
    "plt.show()"
   ]
  },
  {
   "cell_type": "markdown",
   "metadata": {},
   "source": [
    "#### x-aixs: k, y-axis: a -> Tr_Auc "
   ]
  },
  {
   "cell_type": "code",
   "execution_count": 28,
   "metadata": {},
   "outputs": [
    {
     "data": {
      "image/png": "[encoded data removed]",
      "text/plain": [
       "<matplotlib.figure.Figure at 0x23b81a3c160>"
      ]
     },
     "metadata": {},
     "output_type": "display_data"
    }
   ],
   "source": [
    "f, ax = plt.subplots(1, 1, figsize=(8, 5)) \n",
    "cax = ax.matshow(va_auc, interpolation='nearest') \n",
    "f.colorbar(cax) \n",
    "ax.set_xticklabels(['tr']+[k for k in K]) \n",
    "ax.set_yticklabels(['tr']+[a for a in A]) \n",
    "plt.show()"
   ]
  },
  {
   "cell_type": "markdown",
   "metadata": {},
   "source": [
    "#### x-aixs: k, y-axis: a -> Va_Auc "
   ]
  },
  {
   "cell_type": "markdown",
   "metadata": {},
   "source": [
    "### 4 Decision Trees\n",
    "#### 4.1"
   ]
  },
  {
   "cell_type": "code",
   "execution_count": 29,
   "metadata": {
    "collapsed": true
   },
   "outputs": [],
   "source": [
    "maxDepth_range= [10, 25, 30]\n",
    "dTree_tr_auc = []\n",
    "dTree_va_auc = []\n",
    "for i in maxDepth_range:\n",
    "    dtreelearner = ml.dtree.treeClassify(Xt, Yt, maxDepth=i, minParent=2, minLeaf=1)\n",
    "    dTree_tr_auc.append(dtreelearner.auc(Xt, Yt))\n",
    "    dTree_va_auc.append(dtreelearner.auc(Xva, Yva))"
   ]
  },
  {
   "cell_type": "code",
   "execution_count": 30,
   "metadata": {},
   "outputs": [
    {
     "data": {
      "image/png": "[encoded data removed]",
      "text/plain": [
       "<matplotlib.figure.Figure at 0x23b81a3ca58>"
      ]
     },
     "metadata": {},
     "output_type": "display_data"
    }
   ],
   "source": [
    "plt.plot(maxDepth_range, dTree_tr_auc, lw=3, color='blue', alpha=0.75, label='Train Auc')\n",
    "plt.plot(maxDepth_range, dTree_va_auc, lw=3, color='red', alpha=0.75, label='Valid Auc')\n",
    "plt.legend(fontsize=15, loc=0)\n",
    "plt.show()"
   ]
  },
  {
   "cell_type": "markdown",
   "metadata": {},
   "source": [
    "#### 4.2"
   ]
  },
  {
   "cell_type": "code",
   "execution_count": 31,
   "metadata": {
    "collapsed": true
   },
   "outputs": [],
   "source": [
    "no_of_nodes = []\n",
    "no_of_nodes2 = []\n",
    "for i in maxDepth_range:\n",
    "    dtreelearner2 = ml.dtree.treeClassify(Xt, Yt, maxDepth=i, minParent=2, minLeaf=1)\n",
    "    no_of_nodes.append(dtreelearner2.sz)\n",
    "    \n",
    "for i in maxDepth_range:\n",
    "    dtreelearner2 = ml.dtree.treeClassify(Xt, Yt, maxDepth=i, minParent=2, minLeaf=3)\n",
    "    no_of_nodes2.append(dtreelearner2.sz)"
   ]
  },
  {
   "cell_type": "code",
   "execution_count": 37,
   "metadata": {},
   "outputs": [
    {
     "data": {
      "image/png": "[encoded data removed]",
      "text/plain": [
       "<matplotlib.figure.Figure at 0x23b81cd26d8>"
      ]
     },
     "metadata": {},
     "output_type": "display_data"
    }
   ],
   "source": [
    "plt.plot(maxDepth_range, no_of_nodes, lw=3, color='blue', alpha=0.75, label='nodes-train-minleaf=1')\n",
    "plt.plot(maxDepth_range, no_of_nodes2, lw=3, color='red', alpha=0.75, label='nodes-train-inc minleaf=3')\n",
    "plt.legend(fontsize=8, loc=2)\n",
    "plt.show()"
   ]
  },
  {
   "cell_type": "markdown",
   "metadata": {},
   "source": [
    "#### 4.3"
   ]
  },
  {
   "cell_type": "code",
   "execution_count": 39,
   "metadata": {},
   "outputs": [],
   "source": [
    "maxDepth_value = 25\n",
    "minLeaf = [1, 10, 25]\n",
    "minParent = [5, 25, 35]\n",
    "dtree_tr_auc = np.zeros((len(minLeaf),len(minParent)))\n",
    "dtree_va_auc = np.zeros((len(minLeaf),len(minParent)))\n",
    "for i,k in enumerate(minLeaf): \n",
    "    for j,a in enumerate(minParent):\n",
    "        dtreelearner3 = ml.dtree.treeClassify(Xt, Yt, maxDepth=maxDepth_value, minParent=a, minLeaf=k)\n",
    "        dtree_tr_auc[i][j] = dtreelearner3.auc(Xt, Yt)\n",
    "        dtree_va_auc[i][j] = dtreelearner3.auc(Xva,Yva)"
   ]
  },
  {
   "cell_type": "code",
   "execution_count": 40,
   "metadata": {},
   "outputs": [
    {
     "data": {
      "image/png": "[encoded data removed]",
      "text/plain": [
       "<matplotlib.figure.Figure at 0x23b81d82470>"
      ]
     },
     "metadata": {},
     "output_type": "display_data"
    }
   ],
   "source": [
    "f, ax = plt.subplots(1, 1, figsize=(8, 5)) \n",
    "cax = ax.matshow(dtree_tr_auc, interpolation='nearest') \n",
    "f.colorbar(cax) \n",
    "ax.set_xticklabels(['tr']+[k for k in minLeaf]) \n",
    "ax.set_yticklabels(['tr']+[a for a in minParent]) \n",
    "plt.show()"
   ]
  },
  {
   "cell_type": "code",
   "execution_count": 41,
   "metadata": {},
   "outputs": [
    {
     "data": {
      "image/png": "[encoded data removed]",
      "text/plain": [
       "<matplotlib.figure.Figure at 0x23b81791240>"
      ]
     },
     "metadata": {},
     "output_type": "display_data"
    }
   ],
   "source": [
    "f, ax = plt.subplots(1, 1, figsize=(8, 5)) \n",
    "cax = ax.matshow(dtree_va_auc, interpolation='nearest') \n",
    "f.colorbar(cax) \n",
    "ax.set_xticklabels(['tr']+[k for k in minLeaf]) \n",
    "ax.set_yticklabels(['tr']+[a for a in minParent]) \n",
    "plt.show()"
   ]
  },
  {
   "cell_type": "code",
   "execution_count": 42,
   "metadata": {},
   "outputs": [
    {
     "data": {
      "text/plain": [
       "array([[ 0.58561029,  0.60664845,  0.6117356 ],\n",
       "       [ 0.60230483,  0.60467635,  0.60974723],\n",
       "       [ 0.62108972,  0.62048841,  0.62046273]])"
      ]
     },
     "execution_count": 42,
     "metadata": {},
     "output_type": "execute_result"
    }
   ],
   "source": [
    "dtree_va_auc"
   ]
  },
  {
   "cell_type": "markdown",
   "metadata": {},
   "source": [
    "#### Based on validation Auc, I'd select minLeaf = 25 and minParent = 35\n",
    "### 5 Neural Networks "
   ]
  },
  {
   "cell_type": "code",
   "execution_count": 46,
   "metadata": {},
   "outputs": [
    {
     "name": "stdout",
     "output_type": "stream",
     "text": [
      "Layer: 1\n",
      "Node: 2\n",
      "it 1 : Jsur = 0.42598737138933374, J01 = 0.334\n",
      "it 2 : Jsur = 0.4188628717436905, J01 = 0.3238\n",
      "it 4 : Jsur = 0.4148073187216096, J01 = 0.3176\n",
      "it 8 : Jsur = 0.4132538334759841, J01 = 0.316\n",
      "it 16 : Jsur = 0.4129110333281823, J01 = 0.316\n",
      "it 32 : Jsur = 0.41262504574402203, J01 = 0.316\n",
      "Tr_auc: [[ 0.66836924  0.          0.        ]\n",
      " [ 0.          0.          0.        ]\n",
      " [ 0.          0.          0.        ]\n",
      " [ 0.          0.          0.        ]]\n",
      "Va_auc: [[ 0.6484303  0.         0.       ]\n",
      " [ 0.         0.         0.       ]\n",
      " [ 0.         0.         0.       ]\n",
      " [ 0.         0.         0.       ]]\n",
      "Node: 4\n",
      "it 1 : Jsur = 0.45837704836051163, J01 = 0.3358\n",
      "it 2 : Jsur = 0.4519948676889975, J01 = 0.3358\n",
      "it 4 : Jsur = 0.44818734162764196, J01 = 0.3358\n",
      "it 8 : Jsur = 0.4467273732709204, J01 = 0.3358\n",
      "it 16 : Jsur = 0.4462173431178055, J01 = 0.3358\n",
      "it 32 : Jsur = 0.44609826752245424, J01 = 0.3358\n",
      "Tr_auc: [[ 0.66836924  0.62549447  0.        ]\n",
      " [ 0.          0.          0.        ]\n",
      " [ 0.          0.          0.        ]\n",
      " [ 0.          0.          0.        ]]\n",
      "Va_auc: [[ 0.6484303   0.61363946  0.        ]\n",
      " [ 0.          0.          0.        ]\n",
      " [ 0.          0.          0.        ]\n",
      " [ 0.          0.          0.        ]]\n",
      "Node: 7\n",
      "it 1 : Jsur = 0.45837704717853395, J01 = 0.3358\n",
      "it 2 : Jsur = 0.4519948653352044, J01 = 0.3358\n",
      "it 4 : Jsur = 0.4481873398904334, J01 = 0.3358\n",
      "it 8 : Jsur = 0.44672737710853827, J01 = 0.3358\n",
      "it 16 : Jsur = 0.4462173651160829, J01 = 0.3358\n",
      "it 32 : Jsur = 0.44609837186091444, J01 = 0.3358\n",
      "Tr_auc: [[ 0.66836924  0.62549447  0.40553365]\n",
      " [ 0.          0.          0.        ]\n",
      " [ 0.          0.          0.        ]\n",
      " [ 0.          0.          0.        ]]\n",
      "Va_auc: [[ 0.6484303   0.61363946  0.4288829 ]\n",
      " [ 0.          0.          0.        ]\n",
      " [ 0.          0.          0.        ]\n",
      " [ 0.          0.          0.        ]]\n",
      "Layer: 3\n",
      "Node: 2\n",
      "it 1 : Jsur = 0.45837704719415723, J01 = 0.3358\n",
      "it 2 : Jsur = 0.45199486534512534, J01 = 0.3358\n",
      "it 4 : Jsur = 0.4481873398918149, J01 = 0.3358\n",
      "it 8 : Jsur = 0.44672737710849614, J01 = 0.3358\n",
      "it 16 : Jsur = 0.44621736511629134, J01 = 0.3358\n",
      "it 32 : Jsur = 0.44609837186119783, J01 = 0.3358\n",
      "Tr_auc: [[ 0.66836924  0.62549447  0.40553365]\n",
      " [ 0.5         0.          0.        ]\n",
      " [ 0.          0.          0.        ]\n",
      " [ 0.          0.          0.        ]]\n",
      "Va_auc: [[ 0.6484303   0.61363946  0.4288829 ]\n",
      " [ 0.5         0.          0.        ]\n",
      " [ 0.          0.          0.        ]\n",
      " [ 0.          0.          0.        ]]\n",
      "Node: 4\n",
      "it 1 : Jsur = 0.4583770470941312, J01 = 0.3358\n",
      "it 2 : Jsur = 0.4519948653317308, J01 = 0.3358\n",
      "it 4 : Jsur = 0.448187339891392, J01 = 0.3358\n",
      "it 8 : Jsur = 0.44672737710856364, J01 = 0.3358\n",
      "it 16 : Jsur = 0.4462173651164461, J01 = 0.3358\n",
      "it 32 : Jsur = 0.44609837186126233, J01 = 0.3358\n",
      "Tr_auc: [[ 0.66836924  0.62549447  0.40553365]\n",
      " [ 0.5         0.5         0.        ]\n",
      " [ 0.          0.          0.        ]\n",
      " [ 0.          0.          0.        ]]\n",
      "Va_auc: [[ 0.6484303   0.61363946  0.4288829 ]\n",
      " [ 0.5         0.5         0.        ]\n",
      " [ 0.          0.          0.        ]\n",
      " [ 0.          0.          0.        ]]\n",
      "Node: 7\n",
      "it 1 : Jsur = 0.4583770478389167, J01 = 0.3358\n",
      "it 2 : Jsur = 0.45199486541059153, J01 = 0.3358\n",
      "it 4 : Jsur = 0.4481873398937755, J01 = 0.3358\n",
      "it 8 : Jsur = 0.44672737710944765, J01 = 0.3358\n",
      "it 16 : Jsur = 0.4462173651161449, J01 = 0.3358\n",
      "it 32 : Jsur = 0.4460983718614112, J01 = 0.3358\n",
      "Tr_auc: [[ 0.66836924  0.62549447  0.40553365]\n",
      " [ 0.5         0.5         0.5       ]\n",
      " [ 0.          0.          0.        ]\n",
      " [ 0.          0.          0.        ]]\n",
      "Va_auc: [[ 0.6484303   0.61363946  0.4288829 ]\n",
      " [ 0.5         0.5         0.5       ]\n",
      " [ 0.          0.          0.        ]\n",
      " [ 0.          0.          0.        ]]\n",
      "Layer: 7\n",
      "Node: 2\n",
      "it 1 : Jsur = 0.45837704737812884, J01 = 0.3358\n",
      "it 2 : Jsur = 0.45199486536093936, J01 = 0.3358\n",
      "it 4 : Jsur = 0.4481873398931461, J01 = 0.3358\n",
      "it 8 : Jsur = 0.4467273771092481, J01 = 0.3358\n",
      "it 16 : Jsur = 0.4462173651165095, J01 = 0.3358\n",
      "it 32 : Jsur = 0.44609837186140977, J01 = 0.3358\n",
      "Tr_auc: [[ 0.66836924  0.62549447  0.40553365]\n",
      " [ 0.5         0.5         0.5       ]\n",
      " [ 0.5         0.          0.        ]\n",
      " [ 0.          0.          0.        ]]\n",
      "Va_auc: [[ 0.6484303   0.61363946  0.4288829 ]\n",
      " [ 0.5         0.5         0.5       ]\n",
      " [ 0.5         0.          0.        ]\n",
      " [ 0.          0.          0.        ]]\n",
      "Node: 4\n",
      "it 1 : Jsur = 0.4583770472199996, J01 = 0.3358\n",
      "it 2 : Jsur = 0.4519948653459774, J01 = 0.3358\n",
      "it 4 : Jsur = 0.4481873398905853, J01 = 0.3358\n",
      "it 8 : Jsur = 0.4467273771084515, J01 = 0.3358\n",
      "it 16 : Jsur = 0.44621736511621146, J01 = 0.3358\n",
      "it 32 : Jsur = 0.4460983718612499, J01 = 0.3358\n",
      "Tr_auc: [[ 0.66836924  0.62549447  0.40553365]\n",
      " [ 0.5         0.5         0.5       ]\n",
      " [ 0.5         0.5         0.        ]\n",
      " [ 0.          0.          0.        ]]\n",
      "Va_auc: [[ 0.6484303   0.61363946  0.4288829 ]\n",
      " [ 0.5         0.5         0.5       ]\n",
      " [ 0.5         0.5         0.        ]\n",
      " [ 0.          0.          0.        ]]\n",
      "Node: 7\n",
      "it 1 : Jsur = 0.4583770477826256, J01 = 0.3358\n",
      "it 2 : Jsur = 0.4519948654023706, J01 = 0.3358\n",
      "it 4 : Jsur = 0.4481873399046698, J01 = 0.3358\n",
      "it 8 : Jsur = 0.44672737711158245, J01 = 0.3358\n",
      "it 16 : Jsur = 0.4462173651176251, J01 = 0.3358\n",
      "it 32 : Jsur = 0.44609837186164286, J01 = 0.3358\n",
      "Tr_auc: [[ 0.66836924  0.62549447  0.40553365]\n",
      " [ 0.5         0.5         0.5       ]\n",
      " [ 0.5         0.5         0.5       ]\n",
      " [ 0.          0.          0.        ]]\n",
      "Va_auc: [[ 0.6484303   0.61363946  0.4288829 ]\n",
      " [ 0.5         0.5         0.5       ]\n",
      " [ 0.5         0.5         0.5       ]\n",
      " [ 0.          0.          0.        ]]\n",
      "Layer: 10\n",
      "Node: 2\n",
      "it 1 : Jsur = 0.4583770470794157, J01 = 0.3358\n",
      "it 2 : Jsur = 0.45199486532929367, J01 = 0.3358\n",
      "it 4 : Jsur = 0.4481873398919685, J01 = 0.3358\n",
      "it 8 : Jsur = 0.44672737710877036, J01 = 0.3358\n",
      "it 16 : Jsur = 0.4462173651165824, J01 = 0.3358\n",
      "it 32 : Jsur = 0.44609837186131535, J01 = 0.3358\n",
      "Tr_auc: [[ 0.66836924  0.62549447  0.40553365]\n",
      " [ 0.5         0.5         0.5       ]\n",
      " [ 0.5         0.5         0.5       ]\n",
      " [ 0.5         0.          0.        ]]\n",
      "Va_auc: [[ 0.6484303   0.61363946  0.4288829 ]\n",
      " [ 0.5         0.5         0.5       ]\n",
      " [ 0.5         0.5         0.5       ]\n",
      " [ 0.5         0.          0.        ]]\n",
      "Node: 4\n",
      "it 1 : Jsur = 0.45837704774290394, J01 = 0.3358\n",
      "it 2 : Jsur = 0.451994865352918, J01 = 0.3358\n",
      "it 4 : Jsur = 0.4481873399001899, J01 = 0.3358\n",
      "it 8 : Jsur = 0.4467273771146948, J01 = 0.3358\n",
      "it 16 : Jsur = 0.44621736511936133, J01 = 0.3358\n",
      "it 32 : Jsur = 0.4460983718632339, J01 = 0.3358\n",
      "Tr_auc: [[ 0.66836924  0.62549447  0.40553365]\n",
      " [ 0.5         0.5         0.5       ]\n",
      " [ 0.5         0.5         0.5       ]\n",
      " [ 0.5         0.5         0.        ]]\n",
      "Va_auc: [[ 0.6484303   0.61363946  0.4288829 ]\n",
      " [ 0.5         0.5         0.5       ]\n",
      " [ 0.5         0.5         0.5       ]\n",
      " [ 0.5         0.5         0.        ]]\n",
      "Node: 7\n",
      "it 1 : Jsur = 0.4583770472168533, J01 = 0.3358\n",
      "it 2 : Jsur = 0.4519948653399255, J01 = 0.3358\n",
      "it 4 : Jsur = 0.4481873398946732, J01 = 0.3358\n",
      "it 8 : Jsur = 0.44672737710966887, J01 = 0.3358\n",
      "it 16 : Jsur = 0.4462173651169904, J01 = 0.3358\n",
      "it 32 : Jsur = 0.44609837186151163, J01 = 0.3358\n",
      "Tr_auc: [[ 0.66836924  0.62549447  0.40553365]\n",
      " [ 0.5         0.5         0.5       ]\n",
      " [ 0.5         0.5         0.5       ]\n",
      " [ 0.5         0.5         0.5       ]]\n",
      "Va_auc: [[ 0.6484303   0.61363946  0.4288829 ]\n",
      " [ 0.5         0.5         0.5       ]\n",
      " [ 0.5         0.5         0.5       ]\n",
      " [ 0.5         0.5         0.5       ]]\n"
     ]
    }
   ],
   "source": [
    "nn = ml.nnet.nnetClassify()\n",
    "\n",
    "no_layers = [1, 3, 7, 10]\n",
    "no_nodes = [2, 4, 7]\n",
    "LayersList = [XtS.shape[1], len(np.unique(Yt))]\n",
    "nn_tr_auc = np.zeros((len(no_layers),len(no_nodes)))\n",
    "nn_va_auc = np.zeros((len(no_layers),len(no_nodes)))\n",
    "for i, n in enumerate(no_layers):\n",
    "    print(\"Layer:\", n)\n",
    "    for j, m in enumerate(no_nodes):\n",
    "        for l in range(n):\n",
    "            LayersList.insert(1,m)\n",
    "        print(\"Node:\", m)\n",
    "        nn.init_weights(LayersList, 'random', XtS, Yt)\n",
    "        nn.train(XtS, Yt, stopTol=1e-8, stepsize=.25, stopIter=50)\n",
    "        nn_tr_auc[i][j] = nn.auc(XtS,Yt)\n",
    "        nn_va_auc[i][j] = nn.auc(XvS,Yva)\n",
    "        print(\"Tr_auc:\", nn_tr_auc)\n",
    "        print(\"Va_auc:\", nn_va_auc)"
   ]
  },
  {
   "cell_type": "code",
   "execution_count": 49,
   "metadata": {},
   "outputs": [
    {
     "data": {
      "image/png": "[encoded data removed]",
      "text/plain": [
       "<matplotlib.figure.Figure at 0x23bf3fdc358>"
      ]
     },
     "metadata": {},
     "output_type": "display_data"
    }
   ],
   "source": [
    "f, ax = plt.subplots(1, 1, figsize=(8, 5)) \n",
    "cax = ax.matshow(nn_tr_auc, interpolation='nearest') \n",
    "f.colorbar(cax) \n",
    "ax.set_xticklabels(['tr']+[k for k in no_nodes]) \n",
    "ax.set_yticklabels(['tr']+[a for a in no_layers]) \n",
    "plt.show()"
   ]
  },
  {
   "cell_type": "code",
   "execution_count": 50,
   "metadata": {},
   "outputs": [
    {
     "data": {
      "image/png": "[encoded data removed]",
      "text/plain": [
       "<matplotlib.figure.Figure at 0x23b81abdba8>"
      ]
     },
     "metadata": {},
     "output_type": "display_data"
    }
   ],
   "source": [
    "f, ax = plt.subplots(1, 1, figsize=(8, 5)) \n",
    "cax = ax.matshow(nn_va_auc, interpolation='nearest') \n",
    "f.colorbar(cax) \n",
    "ax.set_xticklabels(['tr']+[k for k in no_nodes]) \n",
    "ax.set_yticklabels(['tr']+[a for a in no_layers]) \n",
    "plt.show()"
   ]
  },
  {
   "cell_type": "markdown",
   "metadata": {},
   "source": [
    "#### Based on these plots, I'd select No of hidden layers = 1 and no of nodes in each layer = 2\n",
    "#### 5.2"
   ]
  },
  {
   "cell_type": "code",
   "execution_count": 58,
   "metadata": {},
   "outputs": [
    {
     "name": "stdout",
     "output_type": "stream",
     "text": [
      "it 1 : Jsur = 0.42820650843217817, J01 = 0.3158\n",
      "it 2 : Jsur = 0.4209332578202606, J01 = 0.3118\n",
      "it 4 : Jsur = 0.41443087780875093, J01 = 0.3082\n",
      "it 8 : Jsur = 0.41066610557982514, J01 = 0.3038\n",
      "it 16 : Jsur = 0.4085798529965166, J01 = 0.3026\n",
      "it 32 : Jsur = 0.40785152084583803, J01 = 0.3028\n"
     ]
    }
   ],
   "source": [
    "# Custom activation function\n",
    "nn1 = ml.nnet.nnetClassify()\n",
    "sig = lambda z: np.atleast_2d(z) \n",
    "dsig = lambda z: np.atleast_2d(1) \n",
    "nn1.setActivation('custom', sig, dsig)\n",
    "nn1.init_weights([XtS.shape[1], 5, len(np.unique(Yt))], 'random', XtS, Yt)\n",
    "nn1.train(XtS, Yt, stopTol=1e-8, stepsize=.25, stopIter=50)\n",
    "tr_nn1_auc = nn1.auc(XtS, Yt)\n",
    "va_nn1_auc = nn1.auc(XvS, Yva)"
   ]
  },
  {
   "cell_type": "code",
   "execution_count": 59,
   "metadata": {},
   "outputs": [
    {
     "name": "stdout",
     "output_type": "stream",
     "text": [
      "0.668600594086 0.649499901528\n"
     ]
    }
   ],
   "source": [
    "print(tr_nn1_auc, va_nn1_auc)"
   ]
  },
  {
   "cell_type": "code",
   "execution_count": 61,
   "metadata": {},
   "outputs": [
    {
     "name": "stdout",
     "output_type": "stream",
     "text": [
      "it 1 : Jsur = 0.4269583749980547, J01 = 0.333\n",
      "it 2 : Jsur = 0.4177806169830572, J01 = 0.3198\n",
      "it 4 : Jsur = 0.41289022666095987, J01 = 0.3128\n",
      "it 8 : Jsur = 0.4083972931671524, J01 = 0.309\n",
      "it 16 : Jsur = 0.4054358739745418, J01 = 0.3056\n",
      "it 32 : Jsur = 0.403250754619125, J01 = 0.3014\n",
      "0.680221913396 0.651877252081\n"
     ]
    }
   ],
   "source": [
    "# hTangent activation function\n",
    "sig = lambda z: np.atleast_2d(z) \n",
    "dsig = lambda z: np.atleast_2d(1) \n",
    "nn1.setActivation('htangent', sig, dsig)\n",
    "nn1.init_weights([XtS.shape[1], 5, len(np.unique(Yt))], 'random', XtS, Yt)\n",
    "nn1.train(XtS, Yt, stopTol=1e-8, stepsize=.25, stopIter=50)\n",
    "tr_nn1_auc = nn1.auc(XtS, Yt)\n",
    "va_nn1_auc = nn1.auc(XvS, Yva)\n",
    "print(tr_nn1_auc, va_nn1_auc)"
   ]
  },
  {
   "cell_type": "code",
   "execution_count": 62,
   "metadata": {},
   "outputs": [
    {
     "name": "stdout",
     "output_type": "stream",
     "text": [
      "it 1 : Jsur = 0.4276638892755027, J01 = 0.3334\n",
      "it 2 : Jsur = 0.41904822696515237, J01 = 0.3184\n",
      "it 4 : Jsur = 0.4160733114715862, J01 = 0.3114\n",
      "it 8 : Jsur = 0.4157571189168493, J01 = 0.3114\n",
      "it 16 : Jsur = 0.41634709745374093, J01 = 0.3104\n",
      "it 32 : Jsur = 0.41713924324534785, J01 = 0.3358\n",
      "0.662521550105 0.646965660369\n"
     ]
    }
   ],
   "source": [
    "# logistic activation function\n",
    "sig = lambda z: np.atleast_2d(z) \n",
    "dsig = lambda z: np.atleast_2d(1) \n",
    "nn1.setActivation('logistic', sig, dsig)\n",
    "nn1.init_weights([XtS.shape[1], 5, len(np.unique(Yt))], 'random', XtS, Yt)\n",
    "nn1.train(XtS, Yt, stopTol=1e-8, stepsize=.25, stopIter=50)\n",
    "tr_nn1_auc = nn1.auc(XtS, Yt)\n",
    "va_nn1_auc = nn1.auc(XvS, Yva)\n",
    "print(tr_nn1_auc, va_nn1_auc)"
   ]
  },
  {
   "cell_type": "markdown",
   "metadata": {},
   "source": [
    "#### Custom activation function: Train auc = 0.6686  Valid auc = 0.6495\n",
    "#### hTangent activation function: Train auc = 0.6802  Valid auc = 0.6518\n",
    "#### Logistic activation function: Train auc = 0.6625  Valid auc = 0.6469"
   ]
  },
  {
   "cell_type": "markdown",
   "metadata": {},
   "source": [
    "### 6 Conclusions \n",
    "#### I'm using Decision Tree in Kaggle submission with minLeaf = 25, maxDepth = 25  and minParent =35  because it gives a decent auc both on training and validation data. \n",
    "#### Kaggle uname = Prajal Trivedi\n",
    "#### Kaggle Public Leaderboard AUC = 0.72552"
   ]
  },
  {
   "cell_type": "code",
   "execution_count": 65,
   "metadata": {},
   "outputs": [],
   "source": [
    "Xte = np.genfromtxt('data/X_test.txt', delimiter=None) \n",
    "kg_learner = ml.dtree.treeClassify(X, Y, minLeaf = 25, maxDepth = 25, minParent = 35)\n",
    "Yte = np.vstack((np.arange(Xte.shape[0]), kg_learner.predictSoft(Xte)[:,1])).T \n",
    "np.savetxt('Y_submit.txt', Yte, '%d, %.2f', header='ID,Prob1', comments='', delimiter=',')"
   ]
  },
  {
   "cell_type": "markdown",
   "metadata": {},
   "source": [
    "#### Ensemble of Decision Tree and NN"
   ]
  },
  {
   "cell_type": "code",
   "execution_count": 8,
   "metadata": {},
   "outputs": [
    {
     "ename": "KeyboardInterrupt",
     "evalue": "",
     "output_type": "error",
     "traceback": [
      "\u001b[1;31m---------------------------------------------------------------------------\u001b[0m",
      "\u001b[1;31mKeyboardInterrupt\u001b[0m                         Traceback (most recent call last)",
      "\u001b[1;32m<ipython-input-8-cba8fc291600>\u001b[0m in \u001b[0;36m<module>\u001b[1;34m()\u001b[0m\n\u001b[0;32m      2\u001b[0m \u001b[0mpredictions_nn\u001b[0m \u001b[1;33m=\u001b[0m \u001b[1;33m[\u001b[0m\u001b[1;33m]\u001b[0m\u001b[1;33m\u001b[0m\u001b[0m\n\u001b[0;32m      3\u001b[0m \u001b[0mXte\u001b[0m \u001b[1;33m=\u001b[0m \u001b[0mnp\u001b[0m\u001b[1;33m.\u001b[0m\u001b[0mgenfromtxt\u001b[0m\u001b[1;33m(\u001b[0m\u001b[1;34m'data/X_test.txt'\u001b[0m\u001b[1;33m,\u001b[0m \u001b[0mdelimiter\u001b[0m\u001b[1;33m=\u001b[0m\u001b[1;32mNone\u001b[0m\u001b[1;33m)\u001b[0m\u001b[1;33m\u001b[0m\u001b[0m\n\u001b[1;32m----> 4\u001b[1;33m \u001b[0mkg_learner\u001b[0m \u001b[1;33m=\u001b[0m \u001b[0mml\u001b[0m\u001b[1;33m.\u001b[0m\u001b[0mdtree\u001b[0m\u001b[1;33m.\u001b[0m\u001b[0mtreeClassify\u001b[0m\u001b[1;33m(\u001b[0m\u001b[0mX\u001b[0m\u001b[1;33m,\u001b[0m \u001b[0mY\u001b[0m\u001b[1;33m,\u001b[0m \u001b[0mminLeaf\u001b[0m \u001b[1;33m=\u001b[0m \u001b[1;36m25\u001b[0m\u001b[1;33m,\u001b[0m \u001b[0mmaxDepth\u001b[0m \u001b[1;33m=\u001b[0m \u001b[1;36m25\u001b[0m\u001b[1;33m,\u001b[0m \u001b[0mminParent\u001b[0m \u001b[1;33m=\u001b[0m \u001b[1;36m35\u001b[0m\u001b[1;33m)\u001b[0m\u001b[1;33m\u001b[0m\u001b[0m\n\u001b[0m\u001b[0;32m      5\u001b[0m \u001b[0mpredictions_dt\u001b[0m \u001b[1;33m=\u001b[0m \u001b[0mkg_learner\u001b[0m\u001b[1;33m.\u001b[0m\u001b[0mpredictSoft\u001b[0m\u001b[1;33m(\u001b[0m\u001b[0mXte\u001b[0m\u001b[1;33m)\u001b[0m\u001b[1;33m[\u001b[0m\u001b[1;33m:\u001b[0m\u001b[1;33m,\u001b[0m\u001b[1;36m1\u001b[0m\u001b[1;33m]\u001b[0m\u001b[1;33m\u001b[0m\u001b[0m\n\u001b[0;32m      6\u001b[0m \u001b[0mprint\u001b[0m\u001b[1;33m(\u001b[0m\u001b[0mpredictions_dt\u001b[0m\u001b[1;33m)\u001b[0m\u001b[1;33m\u001b[0m\u001b[0m\n",
      "\u001b[1;32m~\\OneDrive\\Documents\\University of California, Irvine\\Machine Learning\\Project\\Git\\ml-kaggle-project\\mltools\\dtree.py\u001b[0m in \u001b[0;36m__init__\u001b[1;34m(self, *args, **kwargs)\u001b[0m\n\u001b[0;32m    266\u001b[0m         \u001b[1;34m\"\"\"Constructor for decision tree regressor; all args passed to train\"\"\"\u001b[0m\u001b[1;33m\u001b[0m\u001b[0m\n\u001b[0;32m    267\u001b[0m         \u001b[0mself\u001b[0m\u001b[1;33m.\u001b[0m\u001b[0mclasses\u001b[0m \u001b[1;33m=\u001b[0m \u001b[1;33m[\u001b[0m\u001b[1;33m]\u001b[0m\u001b[1;33m\u001b[0m\u001b[0m\n\u001b[1;32m--> 268\u001b[1;33m         \u001b[0mtreeBase\u001b[0m\u001b[1;33m.\u001b[0m\u001b[0m__init__\u001b[0m\u001b[1;33m(\u001b[0m\u001b[0mself\u001b[0m\u001b[1;33m,\u001b[0m\u001b[1;33m*\u001b[0m\u001b[0margs\u001b[0m\u001b[1;33m,\u001b[0m\u001b[1;33m**\u001b[0m\u001b[0mkwargs\u001b[0m\u001b[1;33m)\u001b[0m\u001b[1;33m;\u001b[0m\u001b[1;33m\u001b[0m\u001b[0m\n\u001b[0m\u001b[0;32m    269\u001b[0m         \u001b[1;31m#super(treeClassify,self).__init__(*args,**kwargs);\u001b[0m\u001b[1;33m\u001b[0m\u001b[1;33m\u001b[0m\u001b[0m\n\u001b[0;32m    270\u001b[0m \u001b[1;33m\u001b[0m\u001b[0m\n",
      "\u001b[1;32m~\\OneDrive\\Documents\\University of California, Irvine\\Machine Learning\\Project\\Git\\ml-kaggle-project\\mltools\\dtree.py\u001b[0m in \u001b[0;36m__init__\u001b[1;34m(self, *args, **kwargs)\u001b[0m\n\u001b[0;32m     40\u001b[0m \u001b[1;33m\u001b[0m\u001b[0m\n\u001b[0;32m     41\u001b[0m         \u001b[1;32mif\u001b[0m \u001b[0mlen\u001b[0m\u001b[1;33m(\u001b[0m\u001b[0margs\u001b[0m\u001b[1;33m)\u001b[0m \u001b[1;32mor\u001b[0m \u001b[0mlen\u001b[0m\u001b[1;33m(\u001b[0m\u001b[0mkwargs\u001b[0m\u001b[1;33m)\u001b[0m\u001b[1;33m:\u001b[0m     \u001b[1;31m# if we were given optional arguments,\u001b[0m\u001b[1;33m\u001b[0m\u001b[0m\n\u001b[1;32m---> 42\u001b[1;33m             \u001b[0mself\u001b[0m\u001b[1;33m.\u001b[0m\u001b[0mtrain\u001b[0m\u001b[1;33m(\u001b[0m\u001b[1;33m*\u001b[0m\u001b[0margs\u001b[0m\u001b[1;33m,\u001b[0m \u001b[1;33m**\u001b[0m\u001b[0mkwargs\u001b[0m\u001b[1;33m)\u001b[0m    \u001b[1;31m#  just pass them through to \"train\"\u001b[0m\u001b[1;33m\u001b[0m\u001b[0m\n\u001b[0m\u001b[0;32m     43\u001b[0m \u001b[1;33m\u001b[0m\u001b[0m\n\u001b[0;32m     44\u001b[0m \u001b[1;33m\u001b[0m\u001b[0m\n",
      "\u001b[1;32m~\\OneDrive\\Documents\\University of California, Irvine\\Machine Learning\\Project\\Git\\ml-kaggle-project\\mltools\\dtree.py\u001b[0m in \u001b[0;36mtrain\u001b[1;34m(self, X, Y, *args, **kwargs)\u001b[0m\n\u001b[0;32m    282\u001b[0m         \"\"\"\n\u001b[0;32m    283\u001b[0m         \u001b[0mself\u001b[0m\u001b[1;33m.\u001b[0m\u001b[0mclasses\u001b[0m \u001b[1;33m=\u001b[0m \u001b[0mlist\u001b[0m\u001b[1;33m(\u001b[0m\u001b[0mnp\u001b[0m\u001b[1;33m.\u001b[0m\u001b[0munique\u001b[0m\u001b[1;33m(\u001b[0m\u001b[0mY\u001b[0m\u001b[1;33m)\u001b[0m\u001b[1;33m)\u001b[0m \u001b[1;32mif\u001b[0m \u001b[0mlen\u001b[0m\u001b[1;33m(\u001b[0m\u001b[0mself\u001b[0m\u001b[1;33m.\u001b[0m\u001b[0mclasses\u001b[0m\u001b[1;33m)\u001b[0m \u001b[1;33m==\u001b[0m \u001b[1;36m0\u001b[0m \u001b[1;32melse\u001b[0m \u001b[0mself\u001b[0m\u001b[1;33m.\u001b[0m\u001b[0mclasses\u001b[0m\u001b[1;33m\u001b[0m\u001b[0m\n\u001b[1;32m--> 284\u001b[1;33m         \u001b[0mtreeBase\u001b[0m\u001b[1;33m.\u001b[0m\u001b[0mtrain\u001b[0m\u001b[1;33m(\u001b[0m\u001b[0mself\u001b[0m\u001b[1;33m,\u001b[0m\u001b[0mX\u001b[0m\u001b[1;33m,\u001b[0m\u001b[0mto1ofK\u001b[0m\u001b[1;33m(\u001b[0m\u001b[0mY\u001b[0m\u001b[1;33m,\u001b[0m\u001b[0mself\u001b[0m\u001b[1;33m.\u001b[0m\u001b[0mclasses\u001b[0m\u001b[1;33m)\u001b[0m\u001b[1;33m.\u001b[0m\u001b[0mastype\u001b[0m\u001b[1;33m(\u001b[0m\u001b[0mfloat\u001b[0m\u001b[1;33m)\u001b[0m\u001b[1;33m,\u001b[0m\u001b[1;33m*\u001b[0m\u001b[0margs\u001b[0m\u001b[1;33m,\u001b[0m\u001b[1;33m**\u001b[0m\u001b[0mkwargs\u001b[0m\u001b[1;33m)\u001b[0m\u001b[1;33m;\u001b[0m\u001b[1;33m\u001b[0m\u001b[0m\n\u001b[0m\u001b[0;32m    285\u001b[0m \u001b[1;33m\u001b[0m\u001b[0m\n\u001b[0;32m    286\u001b[0m     \u001b[1;32mdef\u001b[0m \u001b[0mpredict\u001b[0m\u001b[1;33m(\u001b[0m\u001b[0mself\u001b[0m\u001b[1;33m,\u001b[0m\u001b[0mX\u001b[0m\u001b[1;33m)\u001b[0m\u001b[1;33m:\u001b[0m\u001b[1;33m\u001b[0m\u001b[0m\n",
      "\u001b[1;32m~\\OneDrive\\Documents\\University of California, Irvine\\Machine Learning\\Project\\Git\\ml-kaggle-project\\mltools\\dtree.py\u001b[0m in \u001b[0;36mtrain\u001b[1;34m(self, X, Y, minParent, maxDepth, minLeaf, nFeatures)\u001b[0m\n\u001b[0;32m     92\u001b[0m         \u001b[0mself\u001b[0m\u001b[1;33m.\u001b[0m\u001b[0msz\u001b[0m \u001b[1;33m=\u001b[0m \u001b[1;36m0\u001b[0m              \u001b[1;31m# start building at the root\u001b[0m\u001b[1;33m\u001b[0m\u001b[0m\n\u001b[0;32m     93\u001b[0m \u001b[1;33m\u001b[0m\u001b[0m\n\u001b[1;32m---> 94\u001b[1;33m         \u001b[0mself\u001b[0m\u001b[1;33m.\u001b[0m\u001b[0m__train_recursive\u001b[0m\u001b[1;33m(\u001b[0m\u001b[0mX\u001b[0m\u001b[1;33m,\u001b[0m \u001b[0mY\u001b[0m\u001b[1;33m,\u001b[0m \u001b[1;36m0\u001b[0m\u001b[1;33m,\u001b[0m \u001b[0mminParent\u001b[0m\u001b[1;33m,\u001b[0m \u001b[0mmaxDepth\u001b[0m\u001b[1;33m,\u001b[0m \u001b[0mminLeaf\u001b[0m\u001b[1;33m,\u001b[0m \u001b[0mnFeatures\u001b[0m\u001b[1;33m)\u001b[0m\u001b[1;33m\u001b[0m\u001b[0m\n\u001b[0m\u001b[0;32m     95\u001b[0m \u001b[1;33m\u001b[0m\u001b[0m\n\u001b[0;32m     96\u001b[0m         \u001b[0mself\u001b[0m\u001b[1;33m.\u001b[0m\u001b[0mL\u001b[0m \u001b[1;33m=\u001b[0m \u001b[0mself\u001b[0m\u001b[1;33m.\u001b[0m\u001b[0mL\u001b[0m\u001b[1;33m[\u001b[0m\u001b[1;36m0\u001b[0m\u001b[1;33m:\u001b[0m\u001b[0mself\u001b[0m\u001b[1;33m.\u001b[0m\u001b[0msz\u001b[0m\u001b[1;33m]\u001b[0m                              \u001b[1;31m# store returned data into object\u001b[0m\u001b[1;33m\u001b[0m\u001b[0m\n",
      "\u001b[1;32m~\\OneDrive\\Documents\\University of California, Irvine\\Machine Learning\\Project\\Git\\ml-kaggle-project\\mltools\\dtree.py\u001b[0m in \u001b[0;36m__train_recursive\u001b[1;34m(self, X, Y, depth, minParent, maxDepth, minLeaf, nFeatures)\u001b[0m\n\u001b[0;32m    167\u001b[0m         \u001b[1;31m# recur right\u001b[0m\u001b[1;33m\u001b[0m\u001b[1;33m\u001b[0m\u001b[0m\n\u001b[0;32m    168\u001b[0m         \u001b[0mself\u001b[0m\u001b[1;33m.\u001b[0m\u001b[0mR\u001b[0m\u001b[1;33m[\u001b[0m\u001b[0mmy_idx\u001b[0m\u001b[1;33m]\u001b[0m \u001b[1;33m=\u001b[0m \u001b[0mself\u001b[0m\u001b[1;33m.\u001b[0m\u001b[0msz\u001b[0m\u001b[1;33m\u001b[0m\u001b[0m\n\u001b[1;32m--> 169\u001b[1;33m         \u001b[0mself\u001b[0m\u001b[1;33m.\u001b[0m\u001b[0m__train_recursive\u001b[0m\u001b[1;33m(\u001b[0m\u001b[0mX\u001b[0m\u001b[1;33m[\u001b[0m\u001b[0mgo_right\u001b[0m\u001b[1;33m,\u001b[0m\u001b[1;33m:\u001b[0m\u001b[1;33m]\u001b[0m\u001b[1;33m,\u001b[0m \u001b[0mY\u001b[0m\u001b[1;33m[\u001b[0m\u001b[0mgo_right\u001b[0m\u001b[1;33m]\u001b[0m\u001b[1;33m,\u001b[0m \u001b[0mdepth\u001b[0m\u001b[1;33m+\u001b[0m\u001b[1;36m1\u001b[0m\u001b[1;33m,\u001b[0m \u001b[0mminParent\u001b[0m\u001b[1;33m,\u001b[0m \u001b[0mmaxDepth\u001b[0m\u001b[1;33m,\u001b[0m \u001b[0mminLeaf\u001b[0m\u001b[1;33m,\u001b[0m \u001b[0mnFeatures\u001b[0m\u001b[1;33m)\u001b[0m\u001b[1;33m\u001b[0m\u001b[0m\n\u001b[0m\u001b[0;32m    170\u001b[0m \u001b[1;33m\u001b[0m\u001b[0m\n\u001b[0;32m    171\u001b[0m         \u001b[1;32mreturn\u001b[0m\u001b[1;33m\u001b[0m\u001b[0m\n",
      "\u001b[1;32m~\\OneDrive\\Documents\\University of California, Irvine\\Machine Learning\\Project\\Git\\ml-kaggle-project\\mltools\\dtree.py\u001b[0m in \u001b[0;36m__train_recursive\u001b[1;34m(self, X, Y, depth, minParent, maxDepth, minLeaf, nFeatures)\u001b[0m\n\u001b[0;32m    167\u001b[0m         \u001b[1;31m# recur right\u001b[0m\u001b[1;33m\u001b[0m\u001b[1;33m\u001b[0m\u001b[0m\n\u001b[0;32m    168\u001b[0m         \u001b[0mself\u001b[0m\u001b[1;33m.\u001b[0m\u001b[0mR\u001b[0m\u001b[1;33m[\u001b[0m\u001b[0mmy_idx\u001b[0m\u001b[1;33m]\u001b[0m \u001b[1;33m=\u001b[0m \u001b[0mself\u001b[0m\u001b[1;33m.\u001b[0m\u001b[0msz\u001b[0m\u001b[1;33m\u001b[0m\u001b[0m\n\u001b[1;32m--> 169\u001b[1;33m         \u001b[0mself\u001b[0m\u001b[1;33m.\u001b[0m\u001b[0m__train_recursive\u001b[0m\u001b[1;33m(\u001b[0m\u001b[0mX\u001b[0m\u001b[1;33m[\u001b[0m\u001b[0mgo_right\u001b[0m\u001b[1;33m,\u001b[0m\u001b[1;33m:\u001b[0m\u001b[1;33m]\u001b[0m\u001b[1;33m,\u001b[0m \u001b[0mY\u001b[0m\u001b[1;33m[\u001b[0m\u001b[0mgo_right\u001b[0m\u001b[1;33m]\u001b[0m\u001b[1;33m,\u001b[0m \u001b[0mdepth\u001b[0m\u001b[1;33m+\u001b[0m\u001b[1;36m1\u001b[0m\u001b[1;33m,\u001b[0m \u001b[0mminParent\u001b[0m\u001b[1;33m,\u001b[0m \u001b[0mmaxDepth\u001b[0m\u001b[1;33m,\u001b[0m \u001b[0mminLeaf\u001b[0m\u001b[1;33m,\u001b[0m \u001b[0mnFeatures\u001b[0m\u001b[1;33m)\u001b[0m\u001b[1;33m\u001b[0m\u001b[0m\n\u001b[0m\u001b[0;32m    170\u001b[0m \u001b[1;33m\u001b[0m\u001b[0m\n\u001b[0;32m    171\u001b[0m         \u001b[1;32mreturn\u001b[0m\u001b[1;33m\u001b[0m\u001b[0m\n",
      "\u001b[1;32m~\\OneDrive\\Documents\\University of California, Irvine\\Machine Learning\\Project\\Git\\ml-kaggle-project\\mltools\\dtree.py\u001b[0m in \u001b[0;36m__train_recursive\u001b[1;34m(self, X, Y, depth, minParent, maxDepth, minLeaf, nFeatures)\u001b[0m\n\u001b[0;32m    167\u001b[0m         \u001b[1;31m# recur right\u001b[0m\u001b[1;33m\u001b[0m\u001b[1;33m\u001b[0m\u001b[0m\n\u001b[0;32m    168\u001b[0m         \u001b[0mself\u001b[0m\u001b[1;33m.\u001b[0m\u001b[0mR\u001b[0m\u001b[1;33m[\u001b[0m\u001b[0mmy_idx\u001b[0m\u001b[1;33m]\u001b[0m \u001b[1;33m=\u001b[0m \u001b[0mself\u001b[0m\u001b[1;33m.\u001b[0m\u001b[0msz\u001b[0m\u001b[1;33m\u001b[0m\u001b[0m\n\u001b[1;32m--> 169\u001b[1;33m         \u001b[0mself\u001b[0m\u001b[1;33m.\u001b[0m\u001b[0m__train_recursive\u001b[0m\u001b[1;33m(\u001b[0m\u001b[0mX\u001b[0m\u001b[1;33m[\u001b[0m\u001b[0mgo_right\u001b[0m\u001b[1;33m,\u001b[0m\u001b[1;33m:\u001b[0m\u001b[1;33m]\u001b[0m\u001b[1;33m,\u001b[0m \u001b[0mY\u001b[0m\u001b[1;33m[\u001b[0m\u001b[0mgo_right\u001b[0m\u001b[1;33m]\u001b[0m\u001b[1;33m,\u001b[0m \u001b[0mdepth\u001b[0m\u001b[1;33m+\u001b[0m\u001b[1;36m1\u001b[0m\u001b[1;33m,\u001b[0m \u001b[0mminParent\u001b[0m\u001b[1;33m,\u001b[0m \u001b[0mmaxDepth\u001b[0m\u001b[1;33m,\u001b[0m \u001b[0mminLeaf\u001b[0m\u001b[1;33m,\u001b[0m \u001b[0mnFeatures\u001b[0m\u001b[1;33m)\u001b[0m\u001b[1;33m\u001b[0m\u001b[0m\n\u001b[0m\u001b[0;32m    170\u001b[0m \u001b[1;33m\u001b[0m\u001b[0m\n\u001b[0;32m    171\u001b[0m         \u001b[1;32mreturn\u001b[0m\u001b[1;33m\u001b[0m\u001b[0m\n",
      "\u001b[1;32m~\\OneDrive\\Documents\\University of California, Irvine\\Machine Learning\\Project\\Git\\ml-kaggle-project\\mltools\\dtree.py\u001b[0m in \u001b[0;36m__train_recursive\u001b[1;34m(self, X, Y, depth, minParent, maxDepth, minLeaf, nFeatures)\u001b[0m\n\u001b[0;32m    163\u001b[0m         \u001b[1;31m# recur left\u001b[0m\u001b[1;33m\u001b[0m\u001b[1;33m\u001b[0m\u001b[0m\n\u001b[0;32m    164\u001b[0m         \u001b[0mself\u001b[0m\u001b[1;33m.\u001b[0m\u001b[0mL\u001b[0m\u001b[1;33m[\u001b[0m\u001b[0mmy_idx\u001b[0m\u001b[1;33m]\u001b[0m \u001b[1;33m=\u001b[0m \u001b[0mself\u001b[0m\u001b[1;33m.\u001b[0m\u001b[0msz\u001b[0m\u001b[1;33m\u001b[0m\u001b[0m\n\u001b[1;32m--> 165\u001b[1;33m         \u001b[0mself\u001b[0m\u001b[1;33m.\u001b[0m\u001b[0m__train_recursive\u001b[0m\u001b[1;33m(\u001b[0m\u001b[0mX\u001b[0m\u001b[1;33m[\u001b[0m\u001b[0mgo_left\u001b[0m\u001b[1;33m,\u001b[0m\u001b[1;33m:\u001b[0m\u001b[1;33m]\u001b[0m\u001b[1;33m,\u001b[0m \u001b[0mY\u001b[0m\u001b[1;33m[\u001b[0m\u001b[0mgo_left\u001b[0m\u001b[1;33m]\u001b[0m\u001b[1;33m,\u001b[0m \u001b[0mdepth\u001b[0m\u001b[1;33m+\u001b[0m\u001b[1;36m1\u001b[0m\u001b[1;33m,\u001b[0m \u001b[0mminParent\u001b[0m\u001b[1;33m,\u001b[0m \u001b[0mmaxDepth\u001b[0m\u001b[1;33m,\u001b[0m \u001b[0mminLeaf\u001b[0m\u001b[1;33m,\u001b[0m \u001b[0mnFeatures\u001b[0m\u001b[1;33m)\u001b[0m\u001b[1;33m\u001b[0m\u001b[0m\n\u001b[0m\u001b[0;32m    166\u001b[0m \u001b[1;33m\u001b[0m\u001b[0m\n\u001b[0;32m    167\u001b[0m         \u001b[1;31m# recur right\u001b[0m\u001b[1;33m\u001b[0m\u001b[1;33m\u001b[0m\u001b[0m\n",
      "\u001b[1;32m~\\OneDrive\\Documents\\University of California, Irvine\\Machine Learning\\Project\\Git\\ml-kaggle-project\\mltools\\dtree.py\u001b[0m in \u001b[0;36m__train_recursive\u001b[1;34m(self, X, Y, depth, minParent, maxDepth, minLeaf, nFeatures)\u001b[0m\n\u001b[0;32m    163\u001b[0m         \u001b[1;31m# recur left\u001b[0m\u001b[1;33m\u001b[0m\u001b[1;33m\u001b[0m\u001b[0m\n\u001b[0;32m    164\u001b[0m         \u001b[0mself\u001b[0m\u001b[1;33m.\u001b[0m\u001b[0mL\u001b[0m\u001b[1;33m[\u001b[0m\u001b[0mmy_idx\u001b[0m\u001b[1;33m]\u001b[0m \u001b[1;33m=\u001b[0m \u001b[0mself\u001b[0m\u001b[1;33m.\u001b[0m\u001b[0msz\u001b[0m\u001b[1;33m\u001b[0m\u001b[0m\n\u001b[1;32m--> 165\u001b[1;33m         \u001b[0mself\u001b[0m\u001b[1;33m.\u001b[0m\u001b[0m__train_recursive\u001b[0m\u001b[1;33m(\u001b[0m\u001b[0mX\u001b[0m\u001b[1;33m[\u001b[0m\u001b[0mgo_left\u001b[0m\u001b[1;33m,\u001b[0m\u001b[1;33m:\u001b[0m\u001b[1;33m]\u001b[0m\u001b[1;33m,\u001b[0m \u001b[0mY\u001b[0m\u001b[1;33m[\u001b[0m\u001b[0mgo_left\u001b[0m\u001b[1;33m]\u001b[0m\u001b[1;33m,\u001b[0m \u001b[0mdepth\u001b[0m\u001b[1;33m+\u001b[0m\u001b[1;36m1\u001b[0m\u001b[1;33m,\u001b[0m \u001b[0mminParent\u001b[0m\u001b[1;33m,\u001b[0m \u001b[0mmaxDepth\u001b[0m\u001b[1;33m,\u001b[0m \u001b[0mminLeaf\u001b[0m\u001b[1;33m,\u001b[0m \u001b[0mnFeatures\u001b[0m\u001b[1;33m)\u001b[0m\u001b[1;33m\u001b[0m\u001b[0m\n\u001b[0m\u001b[0;32m    166\u001b[0m \u001b[1;33m\u001b[0m\u001b[0m\n\u001b[0;32m    167\u001b[0m         \u001b[1;31m# recur right\u001b[0m\u001b[1;33m\u001b[0m\u001b[1;33m\u001b[0m\u001b[0m\n",
      "\u001b[1;32m~\\OneDrive\\Documents\\University of California, Irvine\\Machine Learning\\Project\\Git\\ml-kaggle-project\\mltools\\dtree.py\u001b[0m in \u001b[0;36m__train_recursive\u001b[1;34m(self, X, Y, depth, minParent, maxDepth, minLeaf, nFeatures)\u001b[0m\n\u001b[0;32m    163\u001b[0m         \u001b[1;31m# recur left\u001b[0m\u001b[1;33m\u001b[0m\u001b[1;33m\u001b[0m\u001b[0m\n\u001b[0;32m    164\u001b[0m         \u001b[0mself\u001b[0m\u001b[1;33m.\u001b[0m\u001b[0mL\u001b[0m\u001b[1;33m[\u001b[0m\u001b[0mmy_idx\u001b[0m\u001b[1;33m]\u001b[0m \u001b[1;33m=\u001b[0m \u001b[0mself\u001b[0m\u001b[1;33m.\u001b[0m\u001b[0msz\u001b[0m\u001b[1;33m\u001b[0m\u001b[0m\n\u001b[1;32m--> 165\u001b[1;33m         \u001b[0mself\u001b[0m\u001b[1;33m.\u001b[0m\u001b[0m__train_recursive\u001b[0m\u001b[1;33m(\u001b[0m\u001b[0mX\u001b[0m\u001b[1;33m[\u001b[0m\u001b[0mgo_left\u001b[0m\u001b[1;33m,\u001b[0m\u001b[1;33m:\u001b[0m\u001b[1;33m]\u001b[0m\u001b[1;33m,\u001b[0m \u001b[0mY\u001b[0m\u001b[1;33m[\u001b[0m\u001b[0mgo_left\u001b[0m\u001b[1;33m]\u001b[0m\u001b[1;33m,\u001b[0m \u001b[0mdepth\u001b[0m\u001b[1;33m+\u001b[0m\u001b[1;36m1\u001b[0m\u001b[1;33m,\u001b[0m \u001b[0mminParent\u001b[0m\u001b[1;33m,\u001b[0m \u001b[0mmaxDepth\u001b[0m\u001b[1;33m,\u001b[0m \u001b[0mminLeaf\u001b[0m\u001b[1;33m,\u001b[0m \u001b[0mnFeatures\u001b[0m\u001b[1;33m)\u001b[0m\u001b[1;33m\u001b[0m\u001b[0m\n\u001b[0m\u001b[0;32m    166\u001b[0m \u001b[1;33m\u001b[0m\u001b[0m\n\u001b[0;32m    167\u001b[0m         \u001b[1;31m# recur right\u001b[0m\u001b[1;33m\u001b[0m\u001b[1;33m\u001b[0m\u001b[0m\n",
      "\u001b[1;32m~\\OneDrive\\Documents\\University of California, Irvine\\Machine Learning\\Project\\Git\\ml-kaggle-project\\mltools\\dtree.py\u001b[0m in \u001b[0;36m__train_recursive\u001b[1;34m(self, X, Y, depth, minParent, maxDepth, minLeaf, nFeatures)\u001b[0m\n\u001b[0;32m    163\u001b[0m         \u001b[1;31m# recur left\u001b[0m\u001b[1;33m\u001b[0m\u001b[1;33m\u001b[0m\u001b[0m\n\u001b[0;32m    164\u001b[0m         \u001b[0mself\u001b[0m\u001b[1;33m.\u001b[0m\u001b[0mL\u001b[0m\u001b[1;33m[\u001b[0m\u001b[0mmy_idx\u001b[0m\u001b[1;33m]\u001b[0m \u001b[1;33m=\u001b[0m \u001b[0mself\u001b[0m\u001b[1;33m.\u001b[0m\u001b[0msz\u001b[0m\u001b[1;33m\u001b[0m\u001b[0m\n\u001b[1;32m--> 165\u001b[1;33m         \u001b[0mself\u001b[0m\u001b[1;33m.\u001b[0m\u001b[0m__train_recursive\u001b[0m\u001b[1;33m(\u001b[0m\u001b[0mX\u001b[0m\u001b[1;33m[\u001b[0m\u001b[0mgo_left\u001b[0m\u001b[1;33m,\u001b[0m\u001b[1;33m:\u001b[0m\u001b[1;33m]\u001b[0m\u001b[1;33m,\u001b[0m \u001b[0mY\u001b[0m\u001b[1;33m[\u001b[0m\u001b[0mgo_left\u001b[0m\u001b[1;33m]\u001b[0m\u001b[1;33m,\u001b[0m \u001b[0mdepth\u001b[0m\u001b[1;33m+\u001b[0m\u001b[1;36m1\u001b[0m\u001b[1;33m,\u001b[0m \u001b[0mminParent\u001b[0m\u001b[1;33m,\u001b[0m \u001b[0mmaxDepth\u001b[0m\u001b[1;33m,\u001b[0m \u001b[0mminLeaf\u001b[0m\u001b[1;33m,\u001b[0m \u001b[0mnFeatures\u001b[0m\u001b[1;33m)\u001b[0m\u001b[1;33m\u001b[0m\u001b[0m\n\u001b[0m\u001b[0;32m    166\u001b[0m \u001b[1;33m\u001b[0m\u001b[0m\n\u001b[0;32m    167\u001b[0m         \u001b[1;31m# recur right\u001b[0m\u001b[1;33m\u001b[0m\u001b[1;33m\u001b[0m\u001b[0m\n",
      "\u001b[1;32m~\\OneDrive\\Documents\\University of California, Irvine\\Machine Learning\\Project\\Git\\ml-kaggle-project\\mltools\\dtree.py\u001b[0m in \u001b[0;36m__train_recursive\u001b[1;34m(self, X, Y, depth, minParent, maxDepth, minLeaf, nFeatures)\u001b[0m\n\u001b[0;32m    163\u001b[0m         \u001b[1;31m# recur left\u001b[0m\u001b[1;33m\u001b[0m\u001b[1;33m\u001b[0m\u001b[0m\n\u001b[0;32m    164\u001b[0m         \u001b[0mself\u001b[0m\u001b[1;33m.\u001b[0m\u001b[0mL\u001b[0m\u001b[1;33m[\u001b[0m\u001b[0mmy_idx\u001b[0m\u001b[1;33m]\u001b[0m \u001b[1;33m=\u001b[0m \u001b[0mself\u001b[0m\u001b[1;33m.\u001b[0m\u001b[0msz\u001b[0m\u001b[1;33m\u001b[0m\u001b[0m\n\u001b[1;32m--> 165\u001b[1;33m         \u001b[0mself\u001b[0m\u001b[1;33m.\u001b[0m\u001b[0m__train_recursive\u001b[0m\u001b[1;33m(\u001b[0m\u001b[0mX\u001b[0m\u001b[1;33m[\u001b[0m\u001b[0mgo_left\u001b[0m\u001b[1;33m,\u001b[0m\u001b[1;33m:\u001b[0m\u001b[1;33m]\u001b[0m\u001b[1;33m,\u001b[0m \u001b[0mY\u001b[0m\u001b[1;33m[\u001b[0m\u001b[0mgo_left\u001b[0m\u001b[1;33m]\u001b[0m\u001b[1;33m,\u001b[0m \u001b[0mdepth\u001b[0m\u001b[1;33m+\u001b[0m\u001b[1;36m1\u001b[0m\u001b[1;33m,\u001b[0m \u001b[0mminParent\u001b[0m\u001b[1;33m,\u001b[0m \u001b[0mmaxDepth\u001b[0m\u001b[1;33m,\u001b[0m \u001b[0mminLeaf\u001b[0m\u001b[1;33m,\u001b[0m \u001b[0mnFeatures\u001b[0m\u001b[1;33m)\u001b[0m\u001b[1;33m\u001b[0m\u001b[0m\n\u001b[0m\u001b[0;32m    166\u001b[0m \u001b[1;33m\u001b[0m\u001b[0m\n\u001b[0;32m    167\u001b[0m         \u001b[1;31m# recur right\u001b[0m\u001b[1;33m\u001b[0m\u001b[1;33m\u001b[0m\u001b[0m\n",
      "\u001b[1;32m~\\OneDrive\\Documents\\University of California, Irvine\\Machine Learning\\Project\\Git\\ml-kaggle-project\\mltools\\dtree.py\u001b[0m in \u001b[0;36m__train_recursive\u001b[1;34m(self, X, Y, depth, minParent, maxDepth, minLeaf, nFeatures)\u001b[0m\n\u001b[0;32m    167\u001b[0m         \u001b[1;31m# recur right\u001b[0m\u001b[1;33m\u001b[0m\u001b[1;33m\u001b[0m\u001b[0m\n\u001b[0;32m    168\u001b[0m         \u001b[0mself\u001b[0m\u001b[1;33m.\u001b[0m\u001b[0mR\u001b[0m\u001b[1;33m[\u001b[0m\u001b[0mmy_idx\u001b[0m\u001b[1;33m]\u001b[0m \u001b[1;33m=\u001b[0m \u001b[0mself\u001b[0m\u001b[1;33m.\u001b[0m\u001b[0msz\u001b[0m\u001b[1;33m\u001b[0m\u001b[0m\n\u001b[1;32m--> 169\u001b[1;33m         \u001b[0mself\u001b[0m\u001b[1;33m.\u001b[0m\u001b[0m__train_recursive\u001b[0m\u001b[1;33m(\u001b[0m\u001b[0mX\u001b[0m\u001b[1;33m[\u001b[0m\u001b[0mgo_right\u001b[0m\u001b[1;33m,\u001b[0m\u001b[1;33m:\u001b[0m\u001b[1;33m]\u001b[0m\u001b[1;33m,\u001b[0m \u001b[0mY\u001b[0m\u001b[1;33m[\u001b[0m\u001b[0mgo_right\u001b[0m\u001b[1;33m]\u001b[0m\u001b[1;33m,\u001b[0m \u001b[0mdepth\u001b[0m\u001b[1;33m+\u001b[0m\u001b[1;36m1\u001b[0m\u001b[1;33m,\u001b[0m \u001b[0mminParent\u001b[0m\u001b[1;33m,\u001b[0m \u001b[0mmaxDepth\u001b[0m\u001b[1;33m,\u001b[0m \u001b[0mminLeaf\u001b[0m\u001b[1;33m,\u001b[0m \u001b[0mnFeatures\u001b[0m\u001b[1;33m)\u001b[0m\u001b[1;33m\u001b[0m\u001b[0m\n\u001b[0m\u001b[0;32m    170\u001b[0m \u001b[1;33m\u001b[0m\u001b[0m\n\u001b[0;32m    171\u001b[0m         \u001b[1;32mreturn\u001b[0m\u001b[1;33m\u001b[0m\u001b[0m\n",
      "\u001b[1;32m~\\OneDrive\\Documents\\University of California, Irvine\\Machine Learning\\Project\\Git\\ml-kaggle-project\\mltools\\dtree.py\u001b[0m in \u001b[0;36m__train_recursive\u001b[1;34m(self, X, Y, depth, minParent, maxDepth, minLeaf, nFeatures)\u001b[0m\n\u001b[0;32m    167\u001b[0m         \u001b[1;31m# recur right\u001b[0m\u001b[1;33m\u001b[0m\u001b[1;33m\u001b[0m\u001b[0m\n\u001b[0;32m    168\u001b[0m         \u001b[0mself\u001b[0m\u001b[1;33m.\u001b[0m\u001b[0mR\u001b[0m\u001b[1;33m[\u001b[0m\u001b[0mmy_idx\u001b[0m\u001b[1;33m]\u001b[0m \u001b[1;33m=\u001b[0m \u001b[0mself\u001b[0m\u001b[1;33m.\u001b[0m\u001b[0msz\u001b[0m\u001b[1;33m\u001b[0m\u001b[0m\n\u001b[1;32m--> 169\u001b[1;33m         \u001b[0mself\u001b[0m\u001b[1;33m.\u001b[0m\u001b[0m__train_recursive\u001b[0m\u001b[1;33m(\u001b[0m\u001b[0mX\u001b[0m\u001b[1;33m[\u001b[0m\u001b[0mgo_right\u001b[0m\u001b[1;33m,\u001b[0m\u001b[1;33m:\u001b[0m\u001b[1;33m]\u001b[0m\u001b[1;33m,\u001b[0m \u001b[0mY\u001b[0m\u001b[1;33m[\u001b[0m\u001b[0mgo_right\u001b[0m\u001b[1;33m]\u001b[0m\u001b[1;33m,\u001b[0m \u001b[0mdepth\u001b[0m\u001b[1;33m+\u001b[0m\u001b[1;36m1\u001b[0m\u001b[1;33m,\u001b[0m \u001b[0mminParent\u001b[0m\u001b[1;33m,\u001b[0m \u001b[0mmaxDepth\u001b[0m\u001b[1;33m,\u001b[0m \u001b[0mminLeaf\u001b[0m\u001b[1;33m,\u001b[0m \u001b[0mnFeatures\u001b[0m\u001b[1;33m)\u001b[0m\u001b[1;33m\u001b[0m\u001b[0m\n\u001b[0m\u001b[0;32m    170\u001b[0m \u001b[1;33m\u001b[0m\u001b[0m\n\u001b[0;32m    171\u001b[0m         \u001b[1;32mreturn\u001b[0m\u001b[1;33m\u001b[0m\u001b[0m\n",
      "\u001b[1;32m~\\OneDrive\\Documents\\University of California, Irvine\\Machine Learning\\Project\\Git\\ml-kaggle-project\\mltools\\dtree.py\u001b[0m in \u001b[0;36m__train_recursive\u001b[1;34m(self, X, Y, depth, minParent, maxDepth, minLeaf, nFeatures)\u001b[0m\n\u001b[0;32m    167\u001b[0m         \u001b[1;31m# recur right\u001b[0m\u001b[1;33m\u001b[0m\u001b[1;33m\u001b[0m\u001b[0m\n\u001b[0;32m    168\u001b[0m         \u001b[0mself\u001b[0m\u001b[1;33m.\u001b[0m\u001b[0mR\u001b[0m\u001b[1;33m[\u001b[0m\u001b[0mmy_idx\u001b[0m\u001b[1;33m]\u001b[0m \u001b[1;33m=\u001b[0m \u001b[0mself\u001b[0m\u001b[1;33m.\u001b[0m\u001b[0msz\u001b[0m\u001b[1;33m\u001b[0m\u001b[0m\n\u001b[1;32m--> 169\u001b[1;33m         \u001b[0mself\u001b[0m\u001b[1;33m.\u001b[0m\u001b[0m__train_recursive\u001b[0m\u001b[1;33m(\u001b[0m\u001b[0mX\u001b[0m\u001b[1;33m[\u001b[0m\u001b[0mgo_right\u001b[0m\u001b[1;33m,\u001b[0m\u001b[1;33m:\u001b[0m\u001b[1;33m]\u001b[0m\u001b[1;33m,\u001b[0m \u001b[0mY\u001b[0m\u001b[1;33m[\u001b[0m\u001b[0mgo_right\u001b[0m\u001b[1;33m]\u001b[0m\u001b[1;33m,\u001b[0m \u001b[0mdepth\u001b[0m\u001b[1;33m+\u001b[0m\u001b[1;36m1\u001b[0m\u001b[1;33m,\u001b[0m \u001b[0mminParent\u001b[0m\u001b[1;33m,\u001b[0m \u001b[0mmaxDepth\u001b[0m\u001b[1;33m,\u001b[0m \u001b[0mminLeaf\u001b[0m\u001b[1;33m,\u001b[0m \u001b[0mnFeatures\u001b[0m\u001b[1;33m)\u001b[0m\u001b[1;33m\u001b[0m\u001b[0m\n\u001b[0m\u001b[0;32m    170\u001b[0m \u001b[1;33m\u001b[0m\u001b[0m\n\u001b[0;32m    171\u001b[0m         \u001b[1;32mreturn\u001b[0m\u001b[1;33m\u001b[0m\u001b[0m\n",
      "\u001b[1;32m~\\OneDrive\\Documents\\University of California, Irvine\\Machine Learning\\Project\\Git\\ml-kaggle-project\\mltools\\dtree.py\u001b[0m in \u001b[0;36m__train_recursive\u001b[1;34m(self, X, Y, depth, minParent, maxDepth, minLeaf, nFeatures)\u001b[0m\n\u001b[0;32m    163\u001b[0m         \u001b[1;31m# recur left\u001b[0m\u001b[1;33m\u001b[0m\u001b[1;33m\u001b[0m\u001b[0m\n\u001b[0;32m    164\u001b[0m         \u001b[0mself\u001b[0m\u001b[1;33m.\u001b[0m\u001b[0mL\u001b[0m\u001b[1;33m[\u001b[0m\u001b[0mmy_idx\u001b[0m\u001b[1;33m]\u001b[0m \u001b[1;33m=\u001b[0m \u001b[0mself\u001b[0m\u001b[1;33m.\u001b[0m\u001b[0msz\u001b[0m\u001b[1;33m\u001b[0m\u001b[0m\n\u001b[1;32m--> 165\u001b[1;33m         \u001b[0mself\u001b[0m\u001b[1;33m.\u001b[0m\u001b[0m__train_recursive\u001b[0m\u001b[1;33m(\u001b[0m\u001b[0mX\u001b[0m\u001b[1;33m[\u001b[0m\u001b[0mgo_left\u001b[0m\u001b[1;33m,\u001b[0m\u001b[1;33m:\u001b[0m\u001b[1;33m]\u001b[0m\u001b[1;33m,\u001b[0m \u001b[0mY\u001b[0m\u001b[1;33m[\u001b[0m\u001b[0mgo_left\u001b[0m\u001b[1;33m]\u001b[0m\u001b[1;33m,\u001b[0m \u001b[0mdepth\u001b[0m\u001b[1;33m+\u001b[0m\u001b[1;36m1\u001b[0m\u001b[1;33m,\u001b[0m \u001b[0mminParent\u001b[0m\u001b[1;33m,\u001b[0m \u001b[0mmaxDepth\u001b[0m\u001b[1;33m,\u001b[0m \u001b[0mminLeaf\u001b[0m\u001b[1;33m,\u001b[0m \u001b[0mnFeatures\u001b[0m\u001b[1;33m)\u001b[0m\u001b[1;33m\u001b[0m\u001b[0m\n\u001b[0m\u001b[0;32m    166\u001b[0m \u001b[1;33m\u001b[0m\u001b[0m\n\u001b[0;32m    167\u001b[0m         \u001b[1;31m# recur right\u001b[0m\u001b[1;33m\u001b[0m\u001b[1;33m\u001b[0m\u001b[0m\n",
      "\u001b[1;32m~\\OneDrive\\Documents\\University of California, Irvine\\Machine Learning\\Project\\Git\\ml-kaggle-project\\mltools\\dtree.py\u001b[0m in \u001b[0;36m__train_recursive\u001b[1;34m(self, X, Y, depth, minParent, maxDepth, minLeaf, nFeatures)\u001b[0m\n\u001b[0;32m    163\u001b[0m         \u001b[1;31m# recur left\u001b[0m\u001b[1;33m\u001b[0m\u001b[1;33m\u001b[0m\u001b[0m\n\u001b[0;32m    164\u001b[0m         \u001b[0mself\u001b[0m\u001b[1;33m.\u001b[0m\u001b[0mL\u001b[0m\u001b[1;33m[\u001b[0m\u001b[0mmy_idx\u001b[0m\u001b[1;33m]\u001b[0m \u001b[1;33m=\u001b[0m \u001b[0mself\u001b[0m\u001b[1;33m.\u001b[0m\u001b[0msz\u001b[0m\u001b[1;33m\u001b[0m\u001b[0m\n\u001b[1;32m--> 165\u001b[1;33m         \u001b[0mself\u001b[0m\u001b[1;33m.\u001b[0m\u001b[0m__train_recursive\u001b[0m\u001b[1;33m(\u001b[0m\u001b[0mX\u001b[0m\u001b[1;33m[\u001b[0m\u001b[0mgo_left\u001b[0m\u001b[1;33m,\u001b[0m\u001b[1;33m:\u001b[0m\u001b[1;33m]\u001b[0m\u001b[1;33m,\u001b[0m \u001b[0mY\u001b[0m\u001b[1;33m[\u001b[0m\u001b[0mgo_left\u001b[0m\u001b[1;33m]\u001b[0m\u001b[1;33m,\u001b[0m \u001b[0mdepth\u001b[0m\u001b[1;33m+\u001b[0m\u001b[1;36m1\u001b[0m\u001b[1;33m,\u001b[0m \u001b[0mminParent\u001b[0m\u001b[1;33m,\u001b[0m \u001b[0mmaxDepth\u001b[0m\u001b[1;33m,\u001b[0m \u001b[0mminLeaf\u001b[0m\u001b[1;33m,\u001b[0m \u001b[0mnFeatures\u001b[0m\u001b[1;33m)\u001b[0m\u001b[1;33m\u001b[0m\u001b[0m\n\u001b[0m\u001b[0;32m    166\u001b[0m \u001b[1;33m\u001b[0m\u001b[0m\n\u001b[0;32m    167\u001b[0m         \u001b[1;31m# recur right\u001b[0m\u001b[1;33m\u001b[0m\u001b[1;33m\u001b[0m\u001b[0m\n",
      "\u001b[1;32m~\\OneDrive\\Documents\\University of California, Irvine\\Machine Learning\\Project\\Git\\ml-kaggle-project\\mltools\\dtree.py\u001b[0m in \u001b[0;36m__train_recursive\u001b[1;34m(self, X, Y, depth, minParent, maxDepth, minLeaf, nFeatures)\u001b[0m\n\u001b[0;32m    167\u001b[0m         \u001b[1;31m# recur right\u001b[0m\u001b[1;33m\u001b[0m\u001b[1;33m\u001b[0m\u001b[0m\n\u001b[0;32m    168\u001b[0m         \u001b[0mself\u001b[0m\u001b[1;33m.\u001b[0m\u001b[0mR\u001b[0m\u001b[1;33m[\u001b[0m\u001b[0mmy_idx\u001b[0m\u001b[1;33m]\u001b[0m \u001b[1;33m=\u001b[0m \u001b[0mself\u001b[0m\u001b[1;33m.\u001b[0m\u001b[0msz\u001b[0m\u001b[1;33m\u001b[0m\u001b[0m\n\u001b[1;32m--> 169\u001b[1;33m         \u001b[0mself\u001b[0m\u001b[1;33m.\u001b[0m\u001b[0m__train_recursive\u001b[0m\u001b[1;33m(\u001b[0m\u001b[0mX\u001b[0m\u001b[1;33m[\u001b[0m\u001b[0mgo_right\u001b[0m\u001b[1;33m,\u001b[0m\u001b[1;33m:\u001b[0m\u001b[1;33m]\u001b[0m\u001b[1;33m,\u001b[0m \u001b[0mY\u001b[0m\u001b[1;33m[\u001b[0m\u001b[0mgo_right\u001b[0m\u001b[1;33m]\u001b[0m\u001b[1;33m,\u001b[0m \u001b[0mdepth\u001b[0m\u001b[1;33m+\u001b[0m\u001b[1;36m1\u001b[0m\u001b[1;33m,\u001b[0m \u001b[0mminParent\u001b[0m\u001b[1;33m,\u001b[0m \u001b[0mmaxDepth\u001b[0m\u001b[1;33m,\u001b[0m \u001b[0mminLeaf\u001b[0m\u001b[1;33m,\u001b[0m \u001b[0mnFeatures\u001b[0m\u001b[1;33m)\u001b[0m\u001b[1;33m\u001b[0m\u001b[0m\n\u001b[0m\u001b[0;32m    170\u001b[0m \u001b[1;33m\u001b[0m\u001b[0m\n\u001b[0;32m    171\u001b[0m         \u001b[1;32mreturn\u001b[0m\u001b[1;33m\u001b[0m\u001b[0m\n",
      "\u001b[1;32m~\\OneDrive\\Documents\\University of California, Irvine\\Machine Learning\\Project\\Git\\ml-kaggle-project\\mltools\\dtree.py\u001b[0m in \u001b[0;36m__train_recursive\u001b[1;34m(self, X, Y, depth, minParent, maxDepth, minLeaf, nFeatures)\u001b[0m\n\u001b[0;32m    167\u001b[0m         \u001b[1;31m# recur right\u001b[0m\u001b[1;33m\u001b[0m\u001b[1;33m\u001b[0m\u001b[0m\n\u001b[0;32m    168\u001b[0m         \u001b[0mself\u001b[0m\u001b[1;33m.\u001b[0m\u001b[0mR\u001b[0m\u001b[1;33m[\u001b[0m\u001b[0mmy_idx\u001b[0m\u001b[1;33m]\u001b[0m \u001b[1;33m=\u001b[0m \u001b[0mself\u001b[0m\u001b[1;33m.\u001b[0m\u001b[0msz\u001b[0m\u001b[1;33m\u001b[0m\u001b[0m\n\u001b[1;32m--> 169\u001b[1;33m         \u001b[0mself\u001b[0m\u001b[1;33m.\u001b[0m\u001b[0m__train_recursive\u001b[0m\u001b[1;33m(\u001b[0m\u001b[0mX\u001b[0m\u001b[1;33m[\u001b[0m\u001b[0mgo_right\u001b[0m\u001b[1;33m,\u001b[0m\u001b[1;33m:\u001b[0m\u001b[1;33m]\u001b[0m\u001b[1;33m,\u001b[0m \u001b[0mY\u001b[0m\u001b[1;33m[\u001b[0m\u001b[0mgo_right\u001b[0m\u001b[1;33m]\u001b[0m\u001b[1;33m,\u001b[0m \u001b[0mdepth\u001b[0m\u001b[1;33m+\u001b[0m\u001b[1;36m1\u001b[0m\u001b[1;33m,\u001b[0m \u001b[0mminParent\u001b[0m\u001b[1;33m,\u001b[0m \u001b[0mmaxDepth\u001b[0m\u001b[1;33m,\u001b[0m \u001b[0mminLeaf\u001b[0m\u001b[1;33m,\u001b[0m \u001b[0mnFeatures\u001b[0m\u001b[1;33m)\u001b[0m\u001b[1;33m\u001b[0m\u001b[0m\n\u001b[0m\u001b[0;32m    170\u001b[0m \u001b[1;33m\u001b[0m\u001b[0m\n\u001b[0;32m    171\u001b[0m         \u001b[1;32mreturn\u001b[0m\u001b[1;33m\u001b[0m\u001b[0m\n",
      "\u001b[1;32m~\\OneDrive\\Documents\\University of California, Irvine\\Machine Learning\\Project\\Git\\ml-kaggle-project\\mltools\\dtree.py\u001b[0m in \u001b[0;36m__train_recursive\u001b[1;34m(self, X, Y, depth, minParent, maxDepth, minLeaf, nFeatures)\u001b[0m\n\u001b[0;32m    163\u001b[0m         \u001b[1;31m# recur left\u001b[0m\u001b[1;33m\u001b[0m\u001b[1;33m\u001b[0m\u001b[0m\n\u001b[0;32m    164\u001b[0m         \u001b[0mself\u001b[0m\u001b[1;33m.\u001b[0m\u001b[0mL\u001b[0m\u001b[1;33m[\u001b[0m\u001b[0mmy_idx\u001b[0m\u001b[1;33m]\u001b[0m \u001b[1;33m=\u001b[0m \u001b[0mself\u001b[0m\u001b[1;33m.\u001b[0m\u001b[0msz\u001b[0m\u001b[1;33m\u001b[0m\u001b[0m\n\u001b[1;32m--> 165\u001b[1;33m         \u001b[0mself\u001b[0m\u001b[1;33m.\u001b[0m\u001b[0m__train_recursive\u001b[0m\u001b[1;33m(\u001b[0m\u001b[0mX\u001b[0m\u001b[1;33m[\u001b[0m\u001b[0mgo_left\u001b[0m\u001b[1;33m,\u001b[0m\u001b[1;33m:\u001b[0m\u001b[1;33m]\u001b[0m\u001b[1;33m,\u001b[0m \u001b[0mY\u001b[0m\u001b[1;33m[\u001b[0m\u001b[0mgo_left\u001b[0m\u001b[1;33m]\u001b[0m\u001b[1;33m,\u001b[0m \u001b[0mdepth\u001b[0m\u001b[1;33m+\u001b[0m\u001b[1;36m1\u001b[0m\u001b[1;33m,\u001b[0m \u001b[0mminParent\u001b[0m\u001b[1;33m,\u001b[0m \u001b[0mmaxDepth\u001b[0m\u001b[1;33m,\u001b[0m \u001b[0mminLeaf\u001b[0m\u001b[1;33m,\u001b[0m \u001b[0mnFeatures\u001b[0m\u001b[1;33m)\u001b[0m\u001b[1;33m\u001b[0m\u001b[0m\n\u001b[0m\u001b[0;32m    166\u001b[0m \u001b[1;33m\u001b[0m\u001b[0m\n\u001b[0;32m    167\u001b[0m         \u001b[1;31m# recur right\u001b[0m\u001b[1;33m\u001b[0m\u001b[1;33m\u001b[0m\u001b[0m\n",
      "\u001b[1;32m~\\OneDrive\\Documents\\University of California, Irvine\\Machine Learning\\Project\\Git\\ml-kaggle-project\\mltools\\dtree.py\u001b[0m in \u001b[0;36m__train_recursive\u001b[1;34m(self, X, Y, depth, minParent, maxDepth, minLeaf, nFeatures)\u001b[0m\n\u001b[0;32m    144\u001b[0m \u001b[1;33m\u001b[0m\u001b[0m\n\u001b[0;32m    145\u001b[0m             \u001b[1;31m# find min weighted variance among split points\u001b[0m\u001b[1;33m\u001b[0m\u001b[1;33m\u001b[0m\u001b[0m\n\u001b[1;32m--> 146\u001b[1;33m             \u001b[0mval\u001b[0m\u001b[1;33m,\u001b[0m\u001b[0midx\u001b[0m \u001b[1;33m=\u001b[0m \u001b[0mself\u001b[0m\u001b[1;33m.\u001b[0m\u001b[0mdata_impurity\u001b[0m\u001b[1;33m(\u001b[0m\u001b[0mtsorted\u001b[0m\u001b[1;33m,\u001b[0m \u001b[0mcan_split\u001b[0m\u001b[1;33m)\u001b[0m\u001b[1;33m\u001b[0m\u001b[0m\n\u001b[0m\u001b[0;32m    147\u001b[0m \u001b[1;33m\u001b[0m\u001b[0m\n\u001b[0;32m    148\u001b[0m             \u001b[1;31m# save best feature and split point found so far\u001b[0m\u001b[1;33m\u001b[0m\u001b[1;33m\u001b[0m\u001b[0m\n",
      "\u001b[1;32m~\\OneDrive\\Documents\\University of California, Irvine\\Machine Learning\\Project\\Git\\ml-kaggle-project\\mltools\\dtree.py\u001b[0m in \u001b[0;36mentropy\u001b[1;34m(tsorted, can_split)\u001b[0m\n\u001b[0;32m    322\u001b[0m \u001b[1;33m\u001b[0m\u001b[0m\n\u001b[0;32m    323\u001b[0m         \u001b[0mh_root\u001b[0m  \u001b[1;33m=\u001b[0m \u001b[1;33m-\u001b[0m\u001b[0mnp\u001b[0m\u001b[1;33m.\u001b[0m\u001b[0mdot\u001b[0m\u001b[1;33m(\u001b[0m\u001b[0my_left\u001b[0m\u001b[1;33m[\u001b[0m\u001b[1;33m-\u001b[0m\u001b[1;36m1\u001b[0m\u001b[1;33m,\u001b[0m\u001b[1;33m:\u001b[0m\u001b[1;33m]\u001b[0m\u001b[1;33m,\u001b[0m \u001b[0mnp\u001b[0m\u001b[1;33m.\u001b[0m\u001b[0mlog\u001b[0m\u001b[1;33m(\u001b[0m\u001b[0my_left\u001b[0m\u001b[1;33m[\u001b[0m\u001b[1;33m-\u001b[0m\u001b[1;36m1\u001b[0m\u001b[1;33m,\u001b[0m\u001b[1;33m:\u001b[0m\u001b[1;33m]\u001b[0m \u001b[1;33m+\u001b[0m \u001b[0meps\u001b[0m\u001b[1;33m)\u001b[0m\u001b[1;33m.\u001b[0m\u001b[0mT\u001b[0m\u001b[1;33m)\u001b[0m\u001b[1;33m\u001b[0m\u001b[0m\n\u001b[1;32m--> 324\u001b[1;33m         \u001b[0mh_left\u001b[0m  \u001b[1;33m=\u001b[0m \u001b[1;33m-\u001b[0m\u001b[0mnp\u001b[0m\u001b[1;33m.\u001b[0m\u001b[0msum\u001b[0m\u001b[1;33m(\u001b[0m\u001b[0my_left\u001b[0m \u001b[1;33m*\u001b[0m \u001b[0mnp\u001b[0m\u001b[1;33m.\u001b[0m\u001b[0mlog\u001b[0m\u001b[1;33m(\u001b[0m\u001b[0my_left\u001b[0m \u001b[1;33m+\u001b[0m \u001b[0meps\u001b[0m\u001b[1;33m)\u001b[0m\u001b[1;33m,\u001b[0m \u001b[0maxis\u001b[0m\u001b[1;33m=\u001b[0m\u001b[1;36m1\u001b[0m\u001b[1;33m)\u001b[0m\u001b[1;33m\u001b[0m\u001b[0m\n\u001b[0m\u001b[0;32m    325\u001b[0m         \u001b[0mh_right\u001b[0m \u001b[1;33m=\u001b[0m \u001b[1;33m-\u001b[0m\u001b[0mnp\u001b[0m\u001b[1;33m.\u001b[0m\u001b[0msum\u001b[0m\u001b[1;33m(\u001b[0m\u001b[0my_right\u001b[0m \u001b[1;33m*\u001b[0m \u001b[0mnp\u001b[0m\u001b[1;33m.\u001b[0m\u001b[0mlog\u001b[0m\u001b[1;33m(\u001b[0m\u001b[0my_right\u001b[0m \u001b[1;33m+\u001b[0m \u001b[0meps\u001b[0m\u001b[1;33m)\u001b[0m\u001b[1;33m,\u001b[0m \u001b[0maxis\u001b[0m\u001b[1;33m=\u001b[0m\u001b[1;36m1\u001b[0m\u001b[1;33m)\u001b[0m\u001b[1;33m\u001b[0m\u001b[0m\n\u001b[0;32m    326\u001b[0m \u001b[1;33m\u001b[0m\u001b[0m\n",
      "\u001b[1;32m~\\Anaconda3\\envs\\tensorflow\\lib\\site-packages\\numpy\\core\\fromnumeric.py\u001b[0m in \u001b[0;36msum\u001b[1;34m(a, axis, dtype, out, keepdims)\u001b[0m\n\u001b[0;32m   1832\u001b[0m             \u001b[1;32mreturn\u001b[0m \u001b[0msum\u001b[0m\u001b[1;33m(\u001b[0m\u001b[0maxis\u001b[0m\u001b[1;33m=\u001b[0m\u001b[0maxis\u001b[0m\u001b[1;33m,\u001b[0m \u001b[0mdtype\u001b[0m\u001b[1;33m=\u001b[0m\u001b[0mdtype\u001b[0m\u001b[1;33m,\u001b[0m \u001b[0mout\u001b[0m\u001b[1;33m=\u001b[0m\u001b[0mout\u001b[0m\u001b[1;33m,\u001b[0m \u001b[1;33m**\u001b[0m\u001b[0mkwargs\u001b[0m\u001b[1;33m)\u001b[0m\u001b[1;33m\u001b[0m\u001b[0m\n\u001b[0;32m   1833\u001b[0m     return _methods._sum(a, axis=axis, dtype=dtype,\n\u001b[1;32m-> 1834\u001b[1;33m                          out=out, **kwargs)\n\u001b[0m\u001b[0;32m   1835\u001b[0m \u001b[1;33m\u001b[0m\u001b[0m\n\u001b[0;32m   1836\u001b[0m \u001b[1;33m\u001b[0m\u001b[0m\n",
      "\u001b[1;32m~\\Anaconda3\\envs\\tensorflow\\lib\\site-packages\\numpy\\core\\_methods.py\u001b[0m in \u001b[0;36m_sum\u001b[1;34m(a, axis, dtype, out, keepdims)\u001b[0m\n\u001b[0;32m     30\u001b[0m \u001b[1;33m\u001b[0m\u001b[0m\n\u001b[0;32m     31\u001b[0m \u001b[1;32mdef\u001b[0m \u001b[0m_sum\u001b[0m\u001b[1;33m(\u001b[0m\u001b[0ma\u001b[0m\u001b[1;33m,\u001b[0m \u001b[0maxis\u001b[0m\u001b[1;33m=\u001b[0m\u001b[1;32mNone\u001b[0m\u001b[1;33m,\u001b[0m \u001b[0mdtype\u001b[0m\u001b[1;33m=\u001b[0m\u001b[1;32mNone\u001b[0m\u001b[1;33m,\u001b[0m \u001b[0mout\u001b[0m\u001b[1;33m=\u001b[0m\u001b[1;32mNone\u001b[0m\u001b[1;33m,\u001b[0m \u001b[0mkeepdims\u001b[0m\u001b[1;33m=\u001b[0m\u001b[1;32mFalse\u001b[0m\u001b[1;33m)\u001b[0m\u001b[1;33m:\u001b[0m\u001b[1;33m\u001b[0m\u001b[0m\n\u001b[1;32m---> 32\u001b[1;33m     \u001b[1;32mreturn\u001b[0m \u001b[0mumr_sum\u001b[0m\u001b[1;33m(\u001b[0m\u001b[0ma\u001b[0m\u001b[1;33m,\u001b[0m \u001b[0maxis\u001b[0m\u001b[1;33m,\u001b[0m \u001b[0mdtype\u001b[0m\u001b[1;33m,\u001b[0m \u001b[0mout\u001b[0m\u001b[1;33m,\u001b[0m \u001b[0mkeepdims\u001b[0m\u001b[1;33m)\u001b[0m\u001b[1;33m\u001b[0m\u001b[0m\n\u001b[0m\u001b[0;32m     33\u001b[0m \u001b[1;33m\u001b[0m\u001b[0m\n\u001b[0;32m     34\u001b[0m \u001b[1;32mdef\u001b[0m \u001b[0m_prod\u001b[0m\u001b[1;33m(\u001b[0m\u001b[0ma\u001b[0m\u001b[1;33m,\u001b[0m \u001b[0maxis\u001b[0m\u001b[1;33m=\u001b[0m\u001b[1;32mNone\u001b[0m\u001b[1;33m,\u001b[0m \u001b[0mdtype\u001b[0m\u001b[1;33m=\u001b[0m\u001b[1;32mNone\u001b[0m\u001b[1;33m,\u001b[0m \u001b[0mout\u001b[0m\u001b[1;33m=\u001b[0m\u001b[1;32mNone\u001b[0m\u001b[1;33m,\u001b[0m \u001b[0mkeepdims\u001b[0m\u001b[1;33m=\u001b[0m\u001b[1;32mFalse\u001b[0m\u001b[1;33m)\u001b[0m\u001b[1;33m:\u001b[0m\u001b[1;33m\u001b[0m\u001b[0m\n",
      "\u001b[1;31mKeyboardInterrupt\u001b[0m: "
     ]
    }
   ],
   "source": [
    "predictions_dt = []\n",
    "predictions_nn = []\n",
    "Xte = np.genfromtxt('data/X_test.txt', delimiter=None) \n",
    "kg_learner = ml.dtree.treeClassify(X, Y, minLeaf = 25, maxDepth = 25, minParent = 35)\n",
    "predictions_dt = kg_learner.predictSoft(Xte)[:,1]\n",
    "print(predictions_dt)\n",
    "\n",
    "#Yte = np.vstack((np.arange(Xte.shape[0]), kg_learner.predictSoft(Xte)[:,1])).T \n",
    "#np.savetxt('Y_submit_ensemble.txt', Yte, '%d, %.2f', header='ID,Prob1', comments='', delimiter=',')"
   ]
  },
  {
   "cell_type": "code",
   "execution_count": null,
   "metadata": {},
   "outputs": [
    {
     "name": "stdout",
     "output_type": "stream",
     "text": [
      "it 1 : Jsur = 0.4465856268551801, J01 = 0.388245\n",
      "it 2 : Jsur = 0.44476650290347475, J01 = 0.391115\n",
      "it 4 : Jsur = 0.44399813040295616, J01 = 0.342895\n",
      "it 8 : Jsur = 0.4424215700071739, J01 = 0.342895\n",
      "it 16 : Jsur = 0.4413045028322976, J01 = 0.342895\n",
      "it 32 : Jsur = 0.45144758576913235, J01 = 0.342895\n"
     ]
    }
   ],
   "source": [
    "nn = ml.nnet.nnetClassify()\n",
    "LayersList = [X.shape[1], len(np.unique(Y))]\n",
    "no_layers = 1\n",
    "no_nodes = 2\n",
    "nn_tr_auc = []\n",
    "\n",
    "for l in range(no_layers):\n",
    "    LayersList.insert(1,no_nodes)\n",
    "        \n",
    "nn.init_weights(LayersList, 'random', X, Y) \n",
    "nn.train(X, Y, stopTol=1e-8, stepsize=.25, stopIter=50)\n",
    "nn_tr_auc = nn.auc(X,Y)\n",
    "print(\"Tr_auc:\", nn_tr_auc)"
   ]
  },
  {
   "cell_type": "code",
   "execution_count": 25,
   "metadata": {},
   "outputs": [
    {
     "name": "stdout",
     "output_type": "stream",
     "text": [
      "[ 0.34800228  0.34800228  0.34800228 ...,  0.34800228  0.34800228\n",
      "  0.34800228]\n"
     ]
    }
   ],
   "source": [
    "predictions_nn = nn.predictSoft(Xte)[:,1]\n",
    "print(predictions_nn)"
   ]
  },
  {
   "cell_type": "markdown",
   "metadata": {},
   "source": [
    "### Statement of Collaboration\n",
    "1) I referred to Piazza discussions for help and also contributed answers in few threads. \n",
    "2) Referred discussion notebooks which helped me solve my doubts in Python code and guided me\n",
    "3) I put up a question on Piaza which helped me get answers from other students."
   ]
  }
 ],
 "metadata": {
  "kernelspec": {
   "display_name": "Python 3",
   "language": "python",
   "name": "python3"
  },
  "language_info": {
   "codemirror_mode": {
    "name": "ipython",
    "version": 3
   },
   "file_extension": ".py",
   "mimetype": "text/x-python",
   "name": "python",
   "nbconvert_exporter": "python",
   "pygments_lexer": "ipython3",
   "version": "3.5.4"
  }
 },
 "nbformat": 4,
 "nbformat_minor": 2
}
